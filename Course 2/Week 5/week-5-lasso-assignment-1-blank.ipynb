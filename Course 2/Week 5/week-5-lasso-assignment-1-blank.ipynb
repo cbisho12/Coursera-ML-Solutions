{
 "cells": [
  {
   "cell_type": "markdown",
   "metadata": {},
   "source": [
    "# Regression Week 5: Feature Selection and LASSO (Interpretation)"
   ]
  },
  {
   "cell_type": "markdown",
   "metadata": {},
   "source": [
    "In this notebook, you will use LASSO to select features, building on a pre-implemented solver for LASSO (using GraphLab Create, though you can use other solvers). You will:\n",
    "* Run LASSO with different L1 penalties.\n",
    "* Choose best L1 penalty using a validation set.\n",
    "* Choose best L1 penalty using a validation set, with additional constraint on the size of subset.\n",
    "\n",
    "In the second notebook, you will implement your own LASSO solver, using coordinate descent. "
   ]
  },
  {
   "cell_type": "markdown",
   "metadata": {},
   "source": [
    "# Fire up graphlab create"
   ]
  },
  {
   "cell_type": "code",
   "execution_count": 40,
   "metadata": {
    "collapsed": true
   },
   "outputs": [],
   "source": [
    "import graphlab"
   ]
  },
  {
   "cell_type": "markdown",
   "metadata": {},
   "source": [
    "# Load in house sales data\n",
    "\n",
    "Dataset is from house sales in King County, the region where the city of Seattle, WA is located."
   ]
  },
  {
   "cell_type": "code",
   "execution_count": 41,
   "metadata": {
    "collapsed": false,
    "scrolled": true
   },
   "outputs": [],
   "source": [
    "sales = graphlab.SFrame('kc_house_data.gl/')"
   ]
  },
  {
   "cell_type": "markdown",
   "metadata": {},
   "source": [
    "# Create new features"
   ]
  },
  {
   "cell_type": "markdown",
   "metadata": {},
   "source": [
    "As in Week 2, we consider features that are some transformations of inputs."
   ]
  },
  {
   "cell_type": "code",
   "execution_count": 42,
   "metadata": {
    "collapsed": true
   },
   "outputs": [],
   "source": [
    "from math import log, sqrt\n",
    "sales['sqft_living_sqrt'] = sales['sqft_living'].apply(sqrt)\n",
    "sales['sqft_lot_sqrt'] = sales['sqft_lot'].apply(sqrt)\n",
    "sales['bedrooms_square'] = sales['bedrooms']*sales['bedrooms']\n",
    "\n",
    "# In the dataset, 'floors' was defined with type string, \n",
    "# so we'll convert them to float, before creating a new feature.\n",
    "sales['floors'] = sales['floors'].astype(float) \n",
    "sales['floors_square'] = sales['floors']*sales['floors']"
   ]
  },
  {
   "cell_type": "markdown",
   "metadata": {},
   "source": [
    "* Squaring bedrooms will increase the separation between not many bedrooms (e.g. 1) and lots of bedrooms (e.g. 4) since 1^2 = 1 but 4^2 = 16. Consequently this variable will mostly affect houses with many bedrooms.\n",
    "* On the other hand, taking square root of sqft_living will decrease the separation between big house and small house. The owner may not be exactly twice as happy for getting a house that is twice as big."
   ]
  },
  {
   "cell_type": "markdown",
   "metadata": {},
   "source": [
    "# Learn regression weights with L1 penalty"
   ]
  },
  {
   "cell_type": "markdown",
   "metadata": {},
   "source": [
    "Let us fit a model with all the features available, plus the features we just created above."
   ]
  },
  {
   "cell_type": "code",
   "execution_count": 43,
   "metadata": {
    "collapsed": false
   },
   "outputs": [],
   "source": [
    "all_features = ['bedrooms', 'bedrooms_square',\n",
    "            'bathrooms',\n",
    "            'sqft_living', 'sqft_living_sqrt',\n",
    "            'sqft_lot', 'sqft_lot_sqrt',\n",
    "            'floors', 'floors_square',\n",
    "            'waterfront', 'view', 'condition', 'grade',\n",
    "            'sqft_above',\n",
    "            'sqft_basement',\n",
    "            'yr_built', 'yr_renovated']"
   ]
  },
  {
   "cell_type": "markdown",
   "metadata": {},
   "source": [
    "Applying L1 penalty requires adding an extra parameter (`l1_penalty`) to the linear regression call in GraphLab Create. (Other tools may have separate implementations of LASSO.)  Note that it's important to set `l2_penalty=0` to ensure we don't introduce an additional L2 penalty."
   ]
  },
  {
   "cell_type": "code",
   "execution_count": 44,
   "metadata": {
    "collapsed": false
   },
   "outputs": [
    {
     "data": {
      "text/html": [
       "<pre>Linear regression:</pre>"
      ],
      "text/plain": [
       "Linear regression:"
      ]
     },
     "metadata": {},
     "output_type": "display_data"
    },
    {
     "data": {
      "text/html": [
       "<pre>--------------------------------------------------------</pre>"
      ],
      "text/plain": [
       "--------------------------------------------------------"
      ]
     },
     "metadata": {},
     "output_type": "display_data"
    },
    {
     "data": {
      "text/html": [
       "<pre>Number of examples          : 21613</pre>"
      ],
      "text/plain": [
       "Number of examples          : 21613"
      ]
     },
     "metadata": {},
     "output_type": "display_data"
    },
    {
     "data": {
      "text/html": [
       "<pre>Number of features          : 17</pre>"
      ],
      "text/plain": [
       "Number of features          : 17"
      ]
     },
     "metadata": {},
     "output_type": "display_data"
    },
    {
     "data": {
      "text/html": [
       "<pre>Number of unpacked features : 17</pre>"
      ],
      "text/plain": [
       "Number of unpacked features : 17"
      ]
     },
     "metadata": {},
     "output_type": "display_data"
    },
    {
     "data": {
      "text/html": [
       "<pre>Number of coefficients    : 18</pre>"
      ],
      "text/plain": [
       "Number of coefficients    : 18"
      ]
     },
     "metadata": {},
     "output_type": "display_data"
    },
    {
     "data": {
      "text/html": [
       "<pre>Starting Accelerated Gradient (FISTA)</pre>"
      ],
      "text/plain": [
       "Starting Accelerated Gradient (FISTA)"
      ]
     },
     "metadata": {},
     "output_type": "display_data"
    },
    {
     "data": {
      "text/html": [
       "<pre>--------------------------------------------------------</pre>"
      ],
      "text/plain": [
       "--------------------------------------------------------"
      ]
     },
     "metadata": {},
     "output_type": "display_data"
    },
    {
     "data": {
      "text/html": [
       "<pre>+-----------+----------+-----------+--------------+--------------------+---------------+</pre>"
      ],
      "text/plain": [
       "+-----------+----------+-----------+--------------+--------------------+---------------+"
      ]
     },
     "metadata": {},
     "output_type": "display_data"
    },
    {
     "data": {
      "text/html": [
       "<pre>| Iteration | Passes   | Step size | Elapsed Time | Training-max_error | Training-rmse |</pre>"
      ],
      "text/plain": [
       "| Iteration | Passes   | Step size | Elapsed Time | Training-max_error | Training-rmse |"
      ]
     },
     "metadata": {},
     "output_type": "display_data"
    },
    {
     "data": {
      "text/html": [
       "<pre>+-----------+----------+-----------+--------------+--------------------+---------------+</pre>"
      ],
      "text/plain": [
       "+-----------+----------+-----------+--------------+--------------------+---------------+"
      ]
     },
     "metadata": {},
     "output_type": "display_data"
    },
    {
     "data": {
      "text/html": [
       "<pre>Tuning step size. First iteration could take longer than subsequent iterations.</pre>"
      ],
      "text/plain": [
       "Tuning step size. First iteration could take longer than subsequent iterations."
      ]
     },
     "metadata": {},
     "output_type": "display_data"
    },
    {
     "data": {
      "text/html": [
       "<pre>| 1         | 2        | 0.000002  | 0.575635     | 6962915.603493     | 426631.749026 |</pre>"
      ],
      "text/plain": [
       "| 1         | 2        | 0.000002  | 0.575635     | 6962915.603493     | 426631.749026 |"
      ]
     },
     "metadata": {},
     "output_type": "display_data"
    },
    {
     "data": {
      "text/html": [
       "<pre>| 2         | 3        | 0.000002  | 0.620173     | 6843144.200219     | 392488.929838 |</pre>"
      ],
      "text/plain": [
       "| 2         | 3        | 0.000002  | 0.620173     | 6843144.200219     | 392488.929838 |"
      ]
     },
     "metadata": {},
     "output_type": "display_data"
    },
    {
     "data": {
      "text/html": [
       "<pre>| 3         | 4        | 0.000002  | 0.670413     | 6831900.032123     | 385340.166783 |</pre>"
      ],
      "text/plain": [
       "| 3         | 4        | 0.000002  | 0.670413     | 6831900.032123     | 385340.166783 |"
      ]
     },
     "metadata": {},
     "output_type": "display_data"
    },
    {
     "data": {
      "text/html": [
       "<pre>| 4         | 5        | 0.000002  | 0.718860     | 6847166.848958     | 384842.383767 |</pre>"
      ],
      "text/plain": [
       "| 4         | 5        | 0.000002  | 0.718860     | 6847166.848958     | 384842.383767 |"
      ]
     },
     "metadata": {},
     "output_type": "display_data"
    },
    {
     "data": {
      "text/html": [
       "<pre>| 5         | 6        | 0.000002  | 0.765903     | 6869667.895833     | 385998.458623 |</pre>"
      ],
      "text/plain": [
       "| 5         | 6        | 0.000002  | 0.765903     | 6869667.895833     | 385998.458623 |"
      ]
     },
     "metadata": {},
     "output_type": "display_data"
    },
    {
     "data": {
      "text/html": [
       "<pre>| 6         | 7        | 0.000002  | 0.813784     | 6847177.773672     | 380824.455891 |</pre>"
      ],
      "text/plain": [
       "| 6         | 7        | 0.000002  | 0.813784     | 6847177.773672     | 380824.455891 |"
      ]
     },
     "metadata": {},
     "output_type": "display_data"
    },
    {
     "data": {
      "text/html": [
       "<pre>+-----------+----------+-----------+--------------+--------------------+---------------+</pre>"
      ],
      "text/plain": [
       "+-----------+----------+-----------+--------------+--------------------+---------------+"
      ]
     },
     "metadata": {},
     "output_type": "display_data"
    },
    {
     "data": {
      "text/html": [
       "<pre>TERMINATED: Iteration limit reached.</pre>"
      ],
      "text/plain": [
       "TERMINATED: Iteration limit reached."
      ]
     },
     "metadata": {},
     "output_type": "display_data"
    },
    {
     "data": {
      "text/html": [
       "<pre>This model may not be optimal. To improve it, consider increasing `max_iterations`.</pre>"
      ],
      "text/plain": [
       "This model may not be optimal. To improve it, consider increasing `max_iterations`."
      ]
     },
     "metadata": {},
     "output_type": "display_data"
    }
   ],
   "source": [
    "model_all = graphlab.linear_regression.create(sales, target='price', features=all_features,\n",
    "                                              validation_set=None, \n",
    "                                              l2_penalty=0., l1_penalty=1e10)"
   ]
  },
  {
   "cell_type": "markdown",
   "metadata": {},
   "source": [
    "Find what features had non-zero weight."
   ]
  },
  {
   "cell_type": "code",
   "execution_count": 45,
   "metadata": {
    "collapsed": false
   },
   "outputs": [
    {
     "name": "stdout",
     "output_type": "stream",
     "text": [
      "+------------------+-------+---------------+--------+\n",
      "|       name       | index |     value     | stderr |\n",
      "+------------------+-------+---------------+--------+\n",
      "|   (intercept)    |  None |  274873.05595 |  None  |\n",
      "|     bedrooms     |  None |      0.0      |  None  |\n",
      "| bedrooms_square  |  None |      0.0      |  None  |\n",
      "|    bathrooms     |  None | 8468.53108691 |  None  |\n",
      "|   sqft_living    |  None | 24.4207209824 |  None  |\n",
      "| sqft_living_sqrt |  None | 350.060553386 |  None  |\n",
      "|     sqft_lot     |  None |      0.0      |  None  |\n",
      "|  sqft_lot_sqrt   |  None |      0.0      |  None  |\n",
      "|      floors      |  None |      0.0      |  None  |\n",
      "|  floors_square   |  None |      0.0      |  None  |\n",
      "|    waterfront    |  None |      0.0      |  None  |\n",
      "|       view       |  None |      0.0      |  None  |\n",
      "|    condition     |  None |      0.0      |  None  |\n",
      "|      grade       |  None | 842.068034898 |  None  |\n",
      "|    sqft_above    |  None | 20.0247224171 |  None  |\n",
      "|  sqft_basement   |  None |      0.0      |  None  |\n",
      "|     yr_built     |  None |      0.0      |  None  |\n",
      "|   yr_renovated   |  None |      0.0      |  None  |\n",
      "+------------------+-------+---------------+--------+\n",
      "[18 rows x 4 columns]\n",
      "\n"
     ]
    }
   ],
   "source": [
    "cof = model_all.coefficients\n",
    "cof.print_rows(num_rows=19,num_columns=4 ) "
   ]
  },
  {
   "cell_type": "markdown",
   "metadata": {},
   "source": [
    "Note that a majority of the weights have been set to zero. So by setting an L1 penalty that's large enough, we are performing a subset selection. \n",
    "\n",
    "***QUIZ QUESTION***:\n",
    "According to this list of weights, which of the features have been chosen? "
   ]
  },
  {
   "cell_type": "markdown",
   "metadata": {},
   "source": [
    "# Selecting an L1 penalty"
   ]
  },
  {
   "cell_type": "markdown",
   "metadata": {},
   "source": [
    "To find a good L1 penalty, we will explore multiple values using a validation set. Let us do three way split into train, validation, and test sets:\n",
    "* Split our sales data into 2 sets: training and test\n",
    "* Further split our training data into two sets: train, validation\n",
    "\n",
    "Be *very* careful that you use seed = 1 to ensure you get the same answer!"
   ]
  },
  {
   "cell_type": "code",
   "execution_count": 46,
   "metadata": {
    "collapsed": true
   },
   "outputs": [],
   "source": [
    "(training_and_validation, testing) = sales.random_split(.9,seed=1) # initial train/test split\n",
    "(training, validation) = training_and_validation.random_split(0.5, seed=1) # split training into train and validate\n",
    "import numpy as np # note this allows us to refer to numpy as np instead "
   ]
  },
  {
   "cell_type": "markdown",
   "metadata": {},
   "source": [
    "Next, we write a loop that does the following:\n",
    "* For `l1_penalty` in [10^1, 10^1.5, 10^2, 10^2.5, ..., 10^7] (to get this in Python, type `np.logspace(1, 7, num=13)`.)\n",
    "    * Fit a regression model with a given `l1_penalty` on TRAIN data. Specify `l1_penalty=l1_penalty` and `l2_penalty=0.` in the parameter list.\n",
    "    * Compute the RSS on VALIDATION data (here you will want to use `.predict()`) for that `l1_penalty`\n",
    "* Report which `l1_penalty` produced the lowest RSS on validation data.\n",
    "\n",
    "When you call `linear_regression.create()` make sure you set `validation_set = None`.\n",
    "\n",
    "Note: you can turn off the print out of `linear_regression.create()` with `verbose = False`"
   ]
  },
  {
   "cell_type": "code",
   "execution_count": 74,
   "metadata": {
    "collapsed": false
   },
   "outputs": [
    {
     "name": "stdout",
     "output_type": "stream",
     "text": [
      "[  1.00000000e+01   3.16227766e+01   1.00000000e+02   3.16227766e+02\n",
      "   1.00000000e+03   3.16227766e+03   1.00000000e+04   3.16227766e+04\n",
      "   1.00000000e+05   3.16227766e+05   1.00000000e+06   3.16227766e+06\n",
      "   1.00000000e+07]\n"
     ]
    }
   ],
   "source": [
    "l1_list = np.logspace(1, 7, num=13)\n",
    "print l1_list"
   ]
  },
  {
   "cell_type": "code",
   "execution_count": 75,
   "metadata": {
    "collapsed": false
   },
   "outputs": [
    {
     "name": "stdout",
     "output_type": "stream",
     "text": [
      "10.0 6.25766285142e+14\n",
      "31.6227766017 6.25766285362e+14\n",
      "100.0 6.25766286058e+14\n",
      "316.227766017 6.25766288257e+14\n",
      "1000.0 6.25766295212e+14\n",
      "3162.27766017 6.25766317206e+14\n",
      "10000.0 6.25766386761e+14\n",
      "31622.7766017 6.25766606749e+14\n",
      "100000.0 6.25767302792e+14\n",
      "316227.766017 6.25769507644e+14\n",
      "1000000.0 6.25776517727e+14\n",
      "3162277.66017 6.25799062845e+14\n",
      "10000000.0 6.25883719085e+14\n",
      "[  6.25766285e+14   6.25766285e+14   6.25766286e+14   6.25766288e+14\n",
      "   6.25766295e+14   6.25766317e+14   6.25766387e+14   6.25766607e+14\n",
      "   6.25767303e+14   6.25769508e+14   6.25776518e+14   6.25799063e+14\n",
      "   6.25883719e+14]\n"
     ]
    }
   ],
   "source": [
    "error_list = np.zeros(13)\n",
    "for i in xrange(13):\n",
    "    l1_penalty = float(l1_list[i:i+1])\n",
    "    model_all = graphlab.linear_regression.create(training, target='price', features=all_features,\n",
    "                                              validation_set=None, \n",
    "                                              l2_penalty=0.0, l1_penalty=l1_penalty,verbose = False)\n",
    "    error = validation['price'] - model_all.predict(validation)\n",
    "    weights = model_all['coefficients']['value']\n",
    "    weights.apply(lambda x: abs(x))\n",
    "    error_list[i] = (error*error).sum()  \n",
    "    print l1_penalty , error_list[i]\n",
    "print error_list"
   ]
  },
  {
   "cell_type": "markdown",
   "metadata": {},
   "source": [
    "*** QUIZ QUESTIONS ***\n",
    "1. What was the best value for the `l1_penalty`?\n",
    "2. What is the RSS on TEST data of the model with the best `l1_penalty`?"
   ]
  },
  {
   "cell_type": "code",
   "execution_count": 76,
   "metadata": {
    "collapsed": false
   },
   "outputs": [
    {
     "name": "stdout",
     "output_type": "stream",
     "text": [
      "1.56983602382e+14\n"
     ]
    }
   ],
   "source": [
    "    model_all = graphlab.linear_regression.create(training, target='price', features=all_features,\n",
    "                                              validation_set=None, \n",
    "                                              l2_penalty=0.0, l1_penalty=10.0,verbose = False)\n",
    "    error = testing['price'] - model_all.predict(testing)\n",
    "    RSS = (error*error).sum()\n",
    "    print RSS"
   ]
  },
  {
   "cell_type": "markdown",
   "metadata": {},
   "source": [
    "***QUIZ QUESTION***\n",
    "Also, using this value of L1 penalty, how many nonzero weights do you have?"
   ]
  },
  {
   "cell_type": "code",
   "execution_count": 77,
   "metadata": {
    "collapsed": false
   },
   "outputs": [
    {
     "name": "stdout",
     "output_type": "stream",
     "text": [
      "+------------------+-------+------------------+--------+\n",
      "|       name       | index |      value       | stderr |\n",
      "+------------------+-------+------------------+--------+\n",
      "|   (intercept)    |  None |  18993.4272128   |  None  |\n",
      "|     bedrooms     |  None |  7936.96767903   |  None  |\n",
      "| bedrooms_square  |  None |  936.993368193   |  None  |\n",
      "|    bathrooms     |  None |  25409.5889341   |  None  |\n",
      "|   sqft_living    |  None |  39.1151363797   |  None  |\n",
      "| sqft_living_sqrt |  None |  1124.65021281   |  None  |\n",
      "|     sqft_lot     |  None | 0.00348361822299 |  None  |\n",
      "|  sqft_lot_sqrt   |  None |  148.258391011   |  None  |\n",
      "|      floors      |  None |   21204.335467   |  None  |\n",
      "|  floors_square   |  None |  12915.5243361   |  None  |\n",
      "|    waterfront    |  None |  601905.594545   |  None  |\n",
      "|       view       |  None |  93312.8573119   |  None  |\n",
      "|    condition     |  None |  6609.03571245   |  None  |\n",
      "|      grade       |  None |  6206.93999188   |  None  |\n",
      "|    sqft_above    |  None |  43.2870534193   |  None  |\n",
      "|  sqft_basement   |  None |  122.367827534   |  None  |\n",
      "|     yr_built     |  None |  9.43363539372   |  None  |\n",
      "|   yr_renovated   |  None |  56.0720034488   |  None  |\n",
      "+------------------+-------+------------------+--------+\n",
      "[18 rows x 4 columns]\n",
      "\n"
     ]
    }
   ],
   "source": [
    "cof = model_all.coefficients\n",
    "cof.print_rows(num_rows=19,num_columns=4 ) "
   ]
  },
  {
   "cell_type": "markdown",
   "metadata": {},
   "source": [
    "# Limit the number of nonzero weights\n",
    "\n",
    "What if we absolutely wanted to limit ourselves to, say, 7 features? This may be important if we want to derive \"a rule of thumb\" --- an interpretable model that has only a few features in them."
   ]
  },
  {
   "cell_type": "markdown",
   "metadata": {},
   "source": [
    "In this section, you are going to implement a simple, two phase procedure to achive this goal:\n",
    "1. Explore a large range of `l1_penalty` values to find a narrow region of `l1_penalty` values where models are likely to have the desired number of non-zero weights.\n",
    "2. Further explore the narrow region you found to find a good value for `l1_penalty` that achieves the desired sparsity.  Here, we will again use a validation set to choose the best value for `l1_penalty`."
   ]
  },
  {
   "cell_type": "code",
   "execution_count": 78,
   "metadata": {
    "collapsed": true
   },
   "outputs": [],
   "source": [
    "max_nonzeros = 7"
   ]
  },
  {
   "cell_type": "markdown",
   "metadata": {},
   "source": [
    "## Exploring the larger range of values to find a narrow range with the desired sparsity\n",
    "\n",
    "Let's define a wide range of possible `l1_penalty_values`:"
   ]
  },
  {
   "cell_type": "code",
   "execution_count": 79,
   "metadata": {
    "collapsed": false
   },
   "outputs": [],
   "source": [
    "l1_penalty_values = np.logspace(8, 10, num=20)"
   ]
  },
  {
   "cell_type": "markdown",
   "metadata": {},
   "source": [
    "Now, implement a loop that search through this space of possible `l1_penalty` values:\n",
    "\n",
    "* For `l1_penalty` in `np.logspace(8, 10, num=20)`:\n",
    "    * Fit a regression model with a given `l1_penalty` on TRAIN data. Specify `l1_penalty=l1_penalty` and `l2_penalty=0.` in the parameter list. When you call `linear_regression.create()` make sure you set `validation_set = None`\n",
    "    * Extract the weights of the model and count the number of nonzeros. Save the number of nonzeros to a list.\n",
    "        * *Hint: `model['coefficients']['value']` gives you an SArray with the parameters you learned.  If you call the method `.nnz()` on it, you will find the number of non-zero parameters!* "
   ]
  },
  {
   "cell_type": "code",
   "execution_count": 80,
   "metadata": {
    "collapsed": false
   },
   "outputs": [
    {
     "name": "stdout",
     "output_type": "stream",
     "text": [
      "[25090.917367212045, 7789.177061100557, 847.5596869428731, 25234.209194458625, 39.03944596356861, 1117.311895567563, -0.025686118239919547, 143.98899196977004, 20695.359239643883, 12466.69065029186, 568204.6445841154, 91066.94280879851, 6360.780926249804, 6139.212805647889, 43.035829924605636, 118.94587495435267, 9.040401654020453, 48.6154673092746]\n",
      "100000000.0 6.27492659875e+14 18\n",
      "[26746.66193663547, 7743.9790478498835, 822.358945250938, 25178.62593058695, 39.01071813525404, 1114.9107159232626, -0.01866307372278287, 142.51979784137168, 20545.86730469756, 12339.245250245609, 558930.2470718037, 90439.72185124883, 6288.009465538853, 6118.412320616763, 42.95755676813047, 117.99004260104356, 8.924085433195676, 46.56185624767167]\n",
      "127427498.57 6.28210516771e+14 18\n",
      "[28873.181016622373, 7691.0470756863215, 790.9175796843567, 25115.27853451593, 38.9820788132087, 1112.2394146479885, -0.02473736058080116, 140.94584475081732, 20365.265896852696, 12181.186257705755, 547143.180178905, 89651.69239158732, 6199.959965996092, 6094.131386545267, 42.86718404798595, 116.78932528625522, 8.784328577071975, 43.953459857455904]\n",
      "162377673.919 6.29176689541e+14 18\n",
      "[31564.606473324213, 7618.5677646364875, 750.170954882919, 25026.177407617197, 38.93591525310978, 1108.3863193708105, -0.017744762751384244, 138.38532594587815, 20124.74672001969, 11975.497761696124, 532082.0756272507, 88631.04255545627, 6082.626008198663, 6060.6779112246695, 42.740314979078335, 115.24303664623339, 8.596902634509673, 40.62156230142576]\n",
      "206913808.111 6.30650082719e+14 18\n",
      "[34954.67174323055, 7515.377482147856, 696.7853594765766, 24894.556092358795, 38.856140639033654, 1102.505643648138, 0.0, 133.90030719388727, 19795.930331186617, 11704.228054783032, 512800.5801387106, 87294.44208081363, 5922.041895353963, 6012.623834095169, 42.55324369173371, 113.23793182751554, 8.337936513644978, 36.35851942869658]\n",
      "263665089.873 6.32940229287e+14 17\n",
      "[39314.61504861633, 7394.882889515525, 630.2530312218134, 24745.121789807443, 38.77550601691837, 1095.9906971335533, 0.0, 129.37160816623378, 19399.66700712913, 11367.957471896074, 488319.7480290307, 85626.78665609904, 5728.632165362393, 5956.871755685232, 42.34028399496758, 110.71867715722652, 8.02833678939697, 30.944030938872302]\n",
      "335981828.628 6.3626814023e+14 17\n",
      "[44909.33791831114, 7253.293148190754, 547.5924623737066, 24570.68589526158, 38.68228127230287, 1088.3818684231635, 0.0, 121.98711365252676, 18922.821613870314, 10954.471871806494, 457135.25712031976, 83487.1278448553, 5493.396781433042, 5890.403907087823, 42.07668625938968, 107.57670840450733, 7.6535046144285355, 24.07619825307978]\n",
      "428133239.872 6.41261198311e+14 17\n",
      "[52030.03008056483, 7070.216615668914, 441.77508409114085, 24344.882055009584, 38.561505028023255, 1078.5368139996178, 0.0, 112.95992577319848, 18308.8672364487, 10424.128529714335, 417398.76313595154, 80764.70244793856, 5191.188382056844, 5804.71090167097, 41.739268088643534, 103.55745460168671, 7.171559453202594, 15.317325464505146]\n",
      "545559478.117 6.48983455376e+14 17\n",
      "[61121.28202435141, 6842.360515558519, 307.9036601622041, 24063.609587494222, 38.40964739069748, 1066.2493764885862, 0.0, 100.1935592911038, 17539.44078313487, 9755.402234112527, 366774.08454314433, 77282.298812589, 4811.239971932409, 5697.413131741466, 41.3094875826893, 98.47108255285788, 6.566249512807734, 4.170973622792715]\n",
      "695192796.178 6.60962217696e+14 17\n",
      "[72653.76283566159, 6537.498538782963, 135.20364887523883, 23681.23672270433, 38.19186469605989, 1049.3914965059903, 0.0, 83.22101625263926, 16527.634703792835, 8889.544638755353, 301854.63361377624, 72780.6760936361, 4313.382092011927, 5553.897040346681, 40.73537901021268, 91.90796363449789, 5.768965880750461, 0.0]\n",
      "885866790.41 6.77261520728e+14 16\n",
      "[87298.82768111023, 6137.401722507501, 0.0, 23168.69527901763, 37.88852360702271, 1026.7096995183554, 0.0, 60.071985259269454, 15213.029420315963, 7778.835387674349, 217190.05177959337, 66808.73953276862, 3671.728338442857, 5365.154612437335, 39.982281338992486, 83.36603089083609, 4.731371459705309, 0.0]\n",
      "1128837891.68 7.01046815867e+14 15\n",
      "[105843.80001578903, 5589.854102063276, 0.0, 22460.65593129863, 37.448455371145386, 995.1398159253085, 0.0, 29.061521925672388, 13469.249093949671, 6335.036737559206, 108231.30249081184, 59040.04882869641, 2826.4541225535163, 5110.1347805871255, 38.96709746488865, 72.26234271807702, 3.3529134234043823, 0.0]\n",
      "1438449888.29 7.37850622829e+14 15\n",
      "[129178.71422833431, 4784.470900916166, 0.0, 21417.82247390828, 36.74606942259416, 947.9643280998285, 0.0, 0.0, 11067.154171923885, 4415.509049749228, 0.0, 48905.91595294182, 1667.8408359940836, 4746.515940254011, 37.517705166670815, 57.656917800612064, 1.447643129893662, 0.0]\n",
      "1832980710.83 7.9616310964e+14 13\n",
      "[158796.2009043941, 3707.139629247253, 0.0, 19985.997836845407, 35.69739787089127, 882.7889028047623, 0.0, 0.0, 7920.125236104667, 1926.9305157514816, 0.0, 32825.297868686124, 150.01433049590094, 4258.6630223491375, 35.52747686878884, 38.19405090777193, 0.0, 0.0]\n",
      "2335721469.09 8.69018172894e+14 12\n",
      "[196100.93780562267, 2181.574321070672, 0.0, 17962.696661157817, 34.1424656512256, 789.3197890782325, 0.0, 0.0, 3665.9308175965184, 0.0, 0.0, 11333.841030833135, 0.0, 3578.900400438122, 32.74320137175841, 12.795381135944707, 0.0, 0.0]\n",
      "2976351441.63 9.66925692362e+14 10\n",
      "[240309.75931983022, 0.0, 0.0, 13840.63995773143, 30.55835882977704, 592.1994692127588, 0.0, 0.0, 0.0, 0.0, 0.0, 0.0, 0.0, 2265.1205255597065, 27.48787265676404, 0.0, 0.0, 0.0]\n",
      "3792690190.73 1.08186759232e+15 6\n",
      "[291783.6780653794, 0.0, 0.0, 6104.325765458825, 23.170124302102497, 215.03093436537714, 0.0, 0.0, 0.0, 0.0, 0.0, 0.0, 0.0, 0.0, 18.40747401543966, 0.0, 0.0, 0.0]\n",
      "4832930238.57 1.24492736032e+15 5\n",
      "[352383.2203918056, 0.0, 0.0, 0.0, 11.508825781283907, 0.0, 0.0, 0.0, 0.0, 0.0, 0.0, 0.0, 0.0, 0.0, 4.663435035929876, 0.0, 0.0, 0.0]\n",
      "6158482110.66 1.38416149024e+15 3\n",
      "[507987.9627437025, 0.0, 0.0, 0.0, 0.0, 0.0, 0.0, 0.0, 0.0, 0.0, 0.0, 0.0, 0.0, 0.0, 0.0, 0.0, 0.0, 0.0]\n",
      "7847599703.51 1.23079472046e+15 1\n",
      "[564482.1368441749, 0.0, 0.0, 0.0, 0.0, 0.0, 0.0, 0.0, 0.0, 0.0, 0.0, 0.0, 0.0, 0.0, 0.0, 0.0, 0.0, 0.0]\n",
      "10000000000.0 1.22915716064e+15 1\n",
      "[  6.27492660e+14   6.28210517e+14   6.29176690e+14   6.30650083e+14\n",
      "   6.32940229e+14   6.36268140e+14   6.41261198e+14   6.48983455e+14\n",
      "   6.60962218e+14   6.77261521e+14   7.01046816e+14   7.37850623e+14\n",
      "   7.96163110e+14   8.69018173e+14   9.66925692e+14   1.08186759e+15\n",
      "   1.24492736e+15   1.38416149e+15   1.23079472e+15   1.22915716e+15]\n"
     ]
    }
   ],
   "source": [
    "error_list = np.zeros(20)\n",
    "for i in xrange(20):\n",
    "    l1_penalty = float(l1_penalty_values[i:i+1])\n",
    "    model_all = graphlab.linear_regression.create(training, target='price', features=all_features,\n",
    "                                              validation_set=None, \n",
    "                                              l2_penalty=0.0, l1_penalty=l1_penalty,verbose = False)\n",
    "    error = validation['price'] - model_all.predict(validation)\n",
    "    error_list[i] = (error*error).sum()\n",
    "    weights = model_all['coefficients']['value']\n",
    "    n=len(weights)\n",
    "    print weights\n",
    "    non_zero = 0\n",
    "    for j in xrange(n):\n",
    "        if weights[j]==0:\n",
    "            non_zero = non_zero + 1\n",
    "    print l1_penalty , error_list[i], n - non_zero \n",
    "print error_list"
   ]
  },
  {
   "cell_type": "markdown",
   "metadata": {},
   "source": [
    "Out of this large range, we want to find the two ends of our desired narrow range of `l1_penalty`.  At one end, we will have `l1_penalty` values that have too few non-zeros, and at the other end, we will have an `l1_penalty` that has too many non-zeros.  \n",
    "\n",
    "More formally, find:\n",
    "* The largest `l1_penalty` that has more non-zeros than `max_nonzero` (if we pick a penalty smaller than this value, we will definitely have too many non-zero weights)\n",
    "    * Store this value in the variable `l1_penalty_min` (we will use it later)\n",
    "* The smallest `l1_penalty` that has fewer non-zeros than `max_nonzero` (if we pick a penalty larger than this value, we will definitely have too few non-zero weights)\n",
    "    * Store this value in the variable `l1_penalty_max` (we will use it later)\n",
    "\n",
    "\n",
    "*Hint: there are many ways to do this, e.g.:*\n",
    "* Programmatically within the loop above\n",
    "* Creating a list with the number of non-zeros for each value of `l1_penalty` and inspecting it to find the appropriate boundaries."
   ]
  },
  {
   "cell_type": "code",
   "execution_count": 81,
   "metadata": {
    "collapsed": true
   },
   "outputs": [],
   "source": [
    "l1_penalty_min = 2976351441.63\n",
    "l1_penalty_max = 3792690190.73"
   ]
  },
  {
   "cell_type": "markdown",
   "metadata": {},
   "source": [
    "***QUIZ QUESTIONS***\n",
    "\n",
    "What values did you find for `l1_penalty_min` and`l1_penalty_max`? "
   ]
  },
  {
   "cell_type": "markdown",
   "metadata": {},
   "source": [
    "## Exploring the narrow range of values to find the solution with the right number of non-zeros that has lowest RSS on the validation set \n",
    "\n",
    "We will now explore the narrow region of `l1_penalty` values we found:"
   ]
  },
  {
   "cell_type": "code",
   "execution_count": 82,
   "metadata": {
    "collapsed": true
   },
   "outputs": [],
   "source": [
    "l1_penalty_values = np.linspace(l1_penalty_min,l1_penalty_max,20)"
   ]
  },
  {
   "cell_type": "markdown",
   "metadata": {},
   "source": [
    "* For `l1_penalty` in `np.linspace(l1_penalty_min,l1_penalty_max,20)`:\n",
    "    * Fit a regression model with a given `l1_penalty` on TRAIN data. Specify `l1_penalty=l1_penalty` and `l2_penalty=0.` in the parameter list. When you call `linear_regression.create()` make sure you set `validation_set = None`\n",
    "    * Measure the RSS of the learned model on the VALIDATION set\n",
    "\n",
    "Find the model that the lowest RSS on the VALIDATION set and has sparsity *equal* to `max_nonzero`."
   ]
  },
  {
   "cell_type": "code",
   "execution_count": 83,
   "metadata": {
    "collapsed": false
   },
   "outputs": [
    {
     "name": "stdout",
     "output_type": "stream",
     "text": [
      "[196100.93780562267, 2181.574321070672, 0.0, 17962.696661157817, 34.1424656512256, 789.3197890782325, 0.0, 0.0, 3665.9308175965184, 0.0, 0.0, 11333.841030833135, 0.0, 3578.900400438122, 32.74320137175841, 12.795381135944707, 0.0, 0.0]\n",
      "2976351441.63 9.66925692362e+14 10\n",
      "[198563.24621808337, 2067.015155558216, 0.0, 17810.387597798555, 34.02151030561595, 782.1823176948214, 0.0, 0.0, 3358.20330522381, 0.0, 0.0, 9876.73760811963, 0.0, 3528.255008870851, 32.53723292119236, 11.05072885745481, 0.0, 0.0]\n",
      "3019316638.95 9.74019450085e+14 10\n",
      "[201025.56040541275, 1952.476489609666, 0.0, 17658.089496535536, 33.9005653546246, 775.0454285495273, 0.0, 0.0, 3050.4721940384206, 0.0, 0.0, 8418.987059021993, 0.0, 3477.6121661732705, 32.33126559851515, 9.306267213386917, 0.0, 0.0]\n",
      "3062281836.27 9.81188367942e+14 10\n",
      "[203443.60100002843, 1825.7886426921766, 0.0, 17487.492351087196, 33.76199379582765, 766.9631650719964, 0.0, 0.0, 2716.8076217860184, 0.0, 0.0, 6944.366160803107, 0.0, 3421.350352523167, 32.1053231575341, 7.513151240077799, 0.0, 0.0]\n",
      "3105247033.59 9.89328342459e+14 10\n",
      "[205805.89950145458, 1683.3934411883524, 0.0, 17291.03602818192, 33.598995208206674, 757.6317354638663, 0.0, 0.0, 2342.208330796683, 0.0, 0.0, 5448.0235087035535, 0.0, 3357.6713839074637, 31.85007986247365, 5.675104780051104, 0.0, 0.0]\n",
      "3148212230.91 9.98783211266e+14 10\n",
      "[208163.07546320913, 1539.5513689709833, 0.0, 17092.181966807224, 33.4337343766799, 748.1850483982349, 0.0, 0.0, 1963.7849935333113, 0.0, 0.0, 3949.685348621418, 0.0, 3293.3080803117623, 31.59211174870523, 3.8330526398195444, 0.0, 0.0]\n",
      "3191177428.24 1.00847716702e+15 10\n",
      "[210520.25142496362, 1395.7092967536155, 0.0, 16893.32790543255, 33.268473545153114, 738.7383613326041, 0.0, 0.0, 1585.3616562699315, 0.0, 0.0, 2451.3471885392705, 0.0, 3228.944776716057, 31.33414363493683, 1.9910004995881017, 0.0, 0.0]\n",
      "3234142625.56 1.01829878055e+15 10\n",
      "[212877.41334194763, 1251.8680815910118, 0.0, 16694.475028890833, 33.103213698300586, 729.2917305532044, 0.0, 0.0, 1206.940573767712, 0.0, 0.0, 953.0179560110599, 0.0, 3164.5818566164694, 31.076177058220818, 0.14895933486279866, 0.0, 0.0]\n",
      "3277107822.88 1.02824799221e+15 10\n",
      "[215235.60364366503, 1108.36955955854, 0.0, 16496.236073166325, 32.93841184767414, 719.8684417855079, 0.0, 0.0, 829.5600647250973, 0.0, 0.0, 0.0, 0.0, 3100.3599202135783, 30.818665290684915, 0.0, 0.0, 0.0]\n",
      "3320073020.2 1.03461690923e+15 8\n",
      "[217598.30381490247, 966.3985002743549, 0.0, 16300.731946320286, 32.77565067773475, 710.5491844811563, 0.0, 0.0, 456.8160871996912, 0.0, 0.0, 0.0, 0.0, 3036.766518244176, 30.563182489806948, 0.0, 0.0, 0.0]\n",
      "3363038217.52 1.03855473594e+15 8\n",
      "[219929.8569701935, 815.2761922109952, 0.0, 16089.493189264542, 32.5953976020481, 700.4398943171175, 0.0, 0.0, 64.82124522042187, 0.0, 0.0, 0.0, 0.0, 2968.699810038037, 30.289833484660935, 0.0, 0.0, 0.0]\n",
      "3406003414.84 1.04323723787e+15 8\n",
      "[222253.19254432793, 661.722717782234, 0.0, 15873.957259267996, 32.41022145125971, 690.114773313317, 0.0, 0.0, 0.0, 0.0, 0.0, 0.0, 0.0, 2899.4202697498727, 30.01157530220117, 0.0, 0.0, 0.0]\n",
      "3448968612.16 1.04693748875e+15 7\n",
      "[224545.13650135914, 496.98342997701394, 0.0, 15640.822913127084, 32.203934199389884, 678.9044193565137, 0.0, 0.0, 0.0, 0.0, 0.0, 0.0, 0.0, 2825.4694254035485, 29.71559977595292, 0.0, 0.0, 0.0]\n",
      "3491933809.48 1.05114762561e+15 7\n",
      "[226807.04723362857, 322.0988884364368, 0.0, 15392.956522287575, 31.98175540689524, 666.949904076753, 0.0, 0.0, 0.0, 0.0, 0.0, 0.0, 0.0, 2747.527875652474, 29.40610788565737, 0.0, 0.0, 0.0]\n",
      "3534899006.8 1.05599273534e+15 7\n",
      "[229077.87544771231, 149.41750849131427, 0.0, 15146.739275608537, 31.758637784209213, 655.0782487799058, 0.0, 0.0, 0.0, 0.0, 0.0, 0.0, 0.0, 2670.2506439549024, 29.097966305233182, 0.0, 0.0, 0.0]\n",
      "3577864204.12 1.06079953176e+15 7\n",
      "[231334.9092206227, 0.0, 0.0, 14892.999487782474, 31.528775842845914, 642.8794167399608, 0.0, 0.0, 0.0, 0.0, 0.0, 0.0, 0.0, 2590.9819244921337, 28.781057387961656, 0.0, 0.0, 0.0]\n",
      "3620829401.45 1.0657076895e+15 6\n",
      "[233587.84208595753, 0.0, 0.0, 14637.120281929736, 31.297068723025713, 630.5871994931325, 0.0, 0.0, 0.0, 0.0, 0.0, 0.0, 0.0, 2511.1399551993945, 28.461672275921252, 0.0, 0.0, 0.0]\n",
      "3663794598.77 1.06946433543e+15 6\n",
      "[235832.55154166778, 0.0, 0.0, 14373.650392455029, 31.053226534522114, 617.8980219466066, 0.0, 0.0, 0.0, 0.0, 0.0, 0.0, 0.0, 2429.680014811543, 28.138501649139684, 0.0, 0.0, 0.0]\n",
      "3706759796.09 1.07350454959e+15 6\n",
      "[238074.13636151506, 0.0, 0.0, 14108.226217730988, 30.806777561658095, 605.1071231942797, 0.0, 0.0, 0.0, 0.0, 0.0, 0.0, 0.0, 2347.760750577541, 27.814308951343772, 0.0, 0.0, 0.0]\n",
      "3749724993.41 1.07763277558e+15 6\n",
      "[240309.75931983022, 0.0, 0.0, 13840.63995773143, 30.55835882977704, 592.1994692127588, 0.0, 0.0, 0.0, 0.0, 0.0, 0.0, 0.0, 2265.1205255597065, 27.48787265676404, 0.0, 0.0, 0.0]\n",
      "3792690190.73 1.08186759232e+15 6\n",
      "[  9.66925692e+14   9.74019450e+14   9.81188368e+14   9.89328342e+14\n",
      "   9.98783211e+14   1.00847717e+15   1.01829878e+15   1.02824799e+15\n",
      "   1.03461691e+15   1.03855474e+15   1.04323724e+15   1.04693749e+15\n",
      "   1.05114763e+15   1.05599274e+15   1.06079953e+15   1.06570769e+15\n",
      "   1.06946434e+15   1.07350455e+15   1.07763278e+15   1.08186759e+15]\n"
     ]
    }
   ],
   "source": [
    "error_list = np.zeros(20)\n",
    "for i in xrange(20):\n",
    "    l1_penalty = float(l1_penalty_values[i:i+1])\n",
    "    model_all = graphlab.linear_regression.create(training, target='price', features=all_features,\n",
    "                                              validation_set=None, \n",
    "                                              l2_penalty=0.0, l1_penalty=l1_penalty,verbose = False)\n",
    "    error = validation['price'] - model_all.predict(validation)\n",
    "    weights = model_all['coefficients']['value']\n",
    "    n=len(weights)\n",
    "    error_list[i] = (error*error).sum() \n",
    "    print weights\n",
    "    non_zero = 0\n",
    "    for j in xrange(n):\n",
    "        if weights[j]==0:\n",
    "            non_zero = non_zero + 1\n",
    "    print l1_penalty , error_list[i], n - non_zero \n",
    "print error_list"
   ]
  },
  {
   "cell_type": "markdown",
   "metadata": {},
   "source": [
    "***QUIZ QUESTIONS***\n",
    "1. What value of `l1_penalty` in our narrow range has the lowest RSS on the VALIDATION set and has sparsity *equal* to `max_nonzeros`?\n",
    "2. What features in this model have non-zero coefficients?"
   ]
  },
  {
   "cell_type": "code",
   "execution_count": 85,
   "metadata": {
    "collapsed": false
   },
   "outputs": [
    {
     "name": "stdout",
     "output_type": "stream",
     "text": [
      "+------------------+-------+---------------+--------+\n",
      "|       name       | index |     value     | stderr |\n",
      "+------------------+-------+---------------+--------+\n",
      "|   (intercept)    |  None | 222253.192544 |  None  |\n",
      "|     bedrooms     |  None | 661.722717782 |  None  |\n",
      "| bedrooms_square  |  None |      0.0      |  None  |\n",
      "|    bathrooms     |  None | 15873.9572593 |  None  |\n",
      "|   sqft_living    |  None | 32.4102214513 |  None  |\n",
      "| sqft_living_sqrt |  None | 690.114773313 |  None  |\n",
      "|     sqft_lot     |  None |      0.0      |  None  |\n",
      "|  sqft_lot_sqrt   |  None |      0.0      |  None  |\n",
      "|      floors      |  None |      0.0      |  None  |\n",
      "|  floors_square   |  None |      0.0      |  None  |\n",
      "|    waterfront    |  None |      0.0      |  None  |\n",
      "|       view       |  None |      0.0      |  None  |\n",
      "|    condition     |  None |      0.0      |  None  |\n",
      "|      grade       |  None | 2899.42026975 |  None  |\n",
      "|    sqft_above    |  None | 30.0115753022 |  None  |\n",
      "|  sqft_basement   |  None |      0.0      |  None  |\n",
      "|     yr_built     |  None |      0.0      |  None  |\n",
      "|   yr_renovated   |  None |      0.0      |  None  |\n",
      "+------------------+-------+---------------+--------+\n",
      "[18 rows x 4 columns]\n",
      "\n"
     ]
    }
   ],
   "source": [
    "\n",
    "l1_penalty = 3448968612.16\n",
    "model_all = graphlab.linear_regression.create(training, target='price', features=all_features,\n",
    "                                              validation_set=None, \n",
    "                                              l2_penalty=0.0, l1_penalty=l1_penalty,verbose = False)\n",
    "cof = model_all.coefficients\n",
    "cof.print_rows(num_rows=19,num_columns=4 ) "
   ]
  },
  {
   "cell_type": "code",
   "execution_count": null,
   "metadata": {
    "collapsed": true
   },
   "outputs": [],
   "source": []
  }
 ],
 "metadata": {
  "kernelspec": {
   "display_name": "Python [gl-env]",
   "language": "python",
   "name": "Python [gl-env]"
  },
  "language_info": {
   "codemirror_mode": {
    "name": "ipython",
    "version": 2
   },
   "file_extension": ".py",
   "mimetype": "text/x-python",
   "name": "python",
   "nbconvert_exporter": "python",
   "pygments_lexer": "ipython2",
   "version": "2.7.12"
  }
 },
 "nbformat": 4,
 "nbformat_minor": 0
}
