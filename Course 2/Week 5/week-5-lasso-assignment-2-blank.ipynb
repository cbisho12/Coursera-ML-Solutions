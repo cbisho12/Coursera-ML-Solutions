{
 "cells": [
  {
   "cell_type": "markdown",
   "metadata": {},
   "source": [
    "# Regression Week 5: LASSO (coordinate descent)"
   ]
  },
  {
   "cell_type": "markdown",
   "metadata": {},
   "source": [
    "In this notebook, you will implement your very own LASSO solver via coordinate descent. You will:\n",
    "* Write a function to normalize features\n",
    "* Implement coordinate descent for LASSO\n",
    "* Explore effects of L1 penalty"
   ]
  },
  {
   "cell_type": "markdown",
   "metadata": {},
   "source": [
    "# Fire up graphlab create"
   ]
  },
  {
   "cell_type": "markdown",
   "metadata": {},
   "source": [
    "Make sure you have the latest version of graphlab (>= 1.7)"
   ]
  },
  {
   "cell_type": "code",
   "execution_count": 1,
   "metadata": {
    "collapsed": false
   },
   "outputs": [],
   "source": [
    "import graphlab"
   ]
  },
  {
   "cell_type": "markdown",
   "metadata": {},
   "source": [
    "# Load in house sales data\n",
    "\n",
    "Dataset is from house sales in King County, the region where the city of Seattle, WA is located."
   ]
  },
  {
   "cell_type": "code",
   "execution_count": 2,
   "metadata": {
    "collapsed": false
   },
   "outputs": [
    {
     "name": "stdout",
     "output_type": "stream",
     "text": [
      "This non-commercial license of GraphLab Create for academic use is assigned to cbisho12@utk.edu and will expire on September 08, 2017.\n"
     ]
    },
    {
     "name": "stderr",
     "output_type": "stream",
     "text": [
      "[INFO] graphlab.cython.cy_server: GraphLab Create v2.1 started. Logging: /tmp/graphlab_server_1476399498.log\n"
     ]
    }
   ],
   "source": [
    "sales = graphlab.SFrame('kc_house_data.gl/')\n",
    "# In the dataset, 'floors' was defined with type string, \n",
    "# so we'll convert them to int, before using it below\n",
    "sales['floors'] = sales['floors'].astype(int) "
   ]
  },
  {
   "cell_type": "markdown",
   "metadata": {},
   "source": [
    "If we want to do any \"feature engineering\" like creating new features or adjusting existing ones we should do this directly using the SFrames as seen in the first notebook of Week 2. For this notebook, however, we will work with the existing features."
   ]
  },
  {
   "cell_type": "markdown",
   "metadata": {},
   "source": [
    "# Import useful functions from previous notebook"
   ]
  },
  {
   "cell_type": "markdown",
   "metadata": {},
   "source": [
    "As in Week 2, we convert the SFrame into a 2D Numpy array. Copy and paste `get_num_data()` from the second notebook of Week 2."
   ]
  },
  {
   "cell_type": "code",
   "execution_count": 3,
   "metadata": {
    "collapsed": true
   },
   "outputs": [],
   "source": [
    "import numpy as np # note this allows us to refer to numpy as np instead "
   ]
  },
  {
   "cell_type": "code",
   "execution_count": 4,
   "metadata": {
    "collapsed": true
   },
   "outputs": [],
   "source": [
    "def get_numpy_data(data_sframe, features, output):\n",
    "    data_sframe['constant'] = 1 # this is how you add a constant column to an SFrame\n",
    "    # add the column 'constant' to the front of the features list so that we can extract it along with the others:\n",
    "    features = ['constant'] + features # this is how you combine two lists\n",
    "    # select the columns of data_SFrame given by the features list into the SFrame features_sframe (now including constant):\n",
    "    features_sframe = data_sframe[features]\n",
    "    # the following line will convert the features_SFrame into a numpy matrix:\n",
    "    feature_matrix = features_sframe.to_numpy()\n",
    "    # assign the column of data_sframe associated with the output to the SArray output_sarray\n",
    "    output_sarray = data_sframe[output]\n",
    "    # the following will convert the SArray into a numpy array by first converting it to a list\n",
    "    output_array = output_sarray.to_numpy()\n",
    "    return(feature_matrix, output_array)"
   ]
  },
  {
   "cell_type": "markdown",
   "metadata": {},
   "source": [
    "Also, copy and paste the `predict_output()` function to compute the predictions for an entire matrix of features given the matrix and the weights:"
   ]
  },
  {
   "cell_type": "code",
   "execution_count": 5,
   "metadata": {
    "collapsed": true
   },
   "outputs": [],
   "source": [
    "def predict_output(feature_matrix, weights):\n",
    "    # assume feature_matrix is a numpy matrix containing the features as columns and weights is a corresponding numpy array\n",
    "    # create thepredictions vector by using np.dot()\n",
    "    predictions =  np.dot(feature_matrix, weights)\n",
    "    return(predictions)"
   ]
  },
  {
   "cell_type": "markdown",
   "metadata": {},
   "source": [
    "# Normalize features\n",
    "In the house dataset, features vary wildly in their relative magnitude: `sqft_living` is very large overall compared to `bedrooms`, for instance. As a result, weight for `sqft_living` would be much smaller than weight for `bedrooms`. This is problematic because \"small\" weights are dropped first as `l1_penalty` goes up. \n",
    "\n",
    "To give equal considerations for all features, we need to **normalize features** as discussed in the lectures: we divide each feature by its 2-norm so that the transformed feature has norm 1.\n",
    "\n",
    "Let's see how we can do this normalization easily with Numpy: let us first consider a small matrix."
   ]
  },
  {
   "cell_type": "code",
   "execution_count": 6,
   "metadata": {
    "collapsed": false
   },
   "outputs": [
    {
     "name": "stdout",
     "output_type": "stream",
     "text": [
      "[[  3.   5.   8.]\n",
      " [  4.  12.  15.]]\n"
     ]
    }
   ],
   "source": [
    "X = np.array([[3.,5.,8.],[4.,12.,15.]])\n",
    "print X"
   ]
  },
  {
   "cell_type": "markdown",
   "metadata": {},
   "source": [
    "Numpy provides a shorthand for computing 2-norms of each column:"
   ]
  },
  {
   "cell_type": "code",
   "execution_count": 7,
   "metadata": {
    "collapsed": false
   },
   "outputs": [
    {
     "name": "stdout",
     "output_type": "stream",
     "text": [
      "[  5.  13.  17.]\n"
     ]
    }
   ],
   "source": [
    "norms = np.linalg.norm(X, axis=0) # gives [norm(X[:,0]), norm(X[:,1]), norm(X[:,2])]\n",
    "print norms"
   ]
  },
  {
   "cell_type": "markdown",
   "metadata": {},
   "source": [
    "To normalize, apply element-wise division:"
   ]
  },
  {
   "cell_type": "code",
   "execution_count": 8,
   "metadata": {
    "collapsed": false
   },
   "outputs": [
    {
     "name": "stdout",
     "output_type": "stream",
     "text": [
      "[[ 0.6         0.38461538  0.47058824]\n",
      " [ 0.8         0.92307692  0.88235294]]\n"
     ]
    }
   ],
   "source": [
    "print X / norms # gives [X[:,0]/norm(X[:,0]), X[:,1]/norm(X[:,1]), X[:,2]/norm(X[:,2])]"
   ]
  },
  {
   "cell_type": "markdown",
   "metadata": {},
   "source": [
    "Using the shorthand we just covered, write a short function called `normalize_features(feature_matrix)`, which normalizes columns of a given feature matrix. The function should return a pair `(normalized_features, norms)`, where the second item contains the norms of original features. As discussed in the lectures, we will use these norms to normalize the test data in the same way as we normalized the training data. "
   ]
  },
  {
   "cell_type": "code",
   "execution_count": 9,
   "metadata": {
    "collapsed": true
   },
   "outputs": [],
   "source": [
    "def normalize_features(feature_matrix):\n",
    "    norms = np.linalg.norm(feature_matrix, axis=0)\n",
    "    normalized_features = feature_matrix/norms\n",
    "    return(normalized_features, norms)"
   ]
  },
  {
   "cell_type": "markdown",
   "metadata": {},
   "source": [
    "To test the function, run the following:"
   ]
  },
  {
   "cell_type": "code",
   "execution_count": 10,
   "metadata": {
    "collapsed": false
   },
   "outputs": [
    {
     "name": "stdout",
     "output_type": "stream",
     "text": [
      "[[ 0.6  0.6  0.6]\n",
      " [ 0.8  0.8  0.8]]\n",
      "[  5.  10.  15.]\n"
     ]
    }
   ],
   "source": [
    "features, norms = normalize_features(np.array([[3.,6.,9.],[4.,8.,12.]]))\n",
    "print features\n",
    "# should print\n",
    "# [[ 0.6  0.6  0.6]\n",
    "#  [ 0.8  0.8  0.8]]\n",
    "print norms\n",
    "# should print\n",
    "# [5.  10.  15.]"
   ]
  },
  {
   "cell_type": "markdown",
   "metadata": {},
   "source": [
    "# Implementing Coordinate Descent with normalized features"
   ]
  },
  {
   "cell_type": "markdown",
   "metadata": {},
   "source": [
    "We seek to obtain a sparse set of weights by minimizing the LASSO cost function\n",
    "```\n",
    "SUM[ (prediction - output)^2 ] + lambda*( |w[1]| + ... + |w[k]|).\n",
    "```\n",
    "(By convention, we do not include `w[0]` in the L1 penalty term. We never want to push the intercept to zero.)\n",
    "\n",
    "The absolute value sign makes the cost function non-differentiable, so simple gradient descent is not viable (you would need to implement a method called subgradient descent). Instead, we will use **coordinate descent**: at each iteration, we will fix all weights but weight `i` and find the value of weight `i` that minimizes the objective. That is, we look for\n",
    "```\n",
    "argmin_{w[i]} [ SUM[ (prediction - output)^2 ] + lambda*( |w[1]| + ... + |w[k]|) ]\n",
    "```\n",
    "where all weights other than `w[i]` are held to be constant. We will optimize one `w[i]` at a time, circling through the weights multiple times.  \n",
    "  1. Pick a coordinate `i`\n",
    "  2. Compute `w[i]` that minimizes the cost function `SUM[ (prediction - output)^2 ] + lambda*( |w[1]| + ... + |w[k]|)`\n",
    "  3. Repeat Steps 1 and 2 for all coordinates, multiple times"
   ]
  },
  {
   "cell_type": "markdown",
   "metadata": {},
   "source": [
    "For this notebook, we use **cyclical coordinate descent with normalized features**, where we cycle through coordinates 0 to (d-1) in order, and assume the features were normalized as discussed above. The formula for optimizing each coordinate is as follows:\n",
    "```\n",
    "       ┌ (ro[i] + lambda/2)     if ro[i] < -lambda/2\n",
    "w[i] = ├ 0                      if -lambda/2 <= ro[i] <= lambda/2\n",
    "       └ (ro[i] - lambda/2)     if ro[i] > lambda/2\n",
    "```\n",
    "where\n",
    "```\n",
    "ro[i] = SUM[ [feature_i]*(output - prediction + w[i]*[feature_i]) ].\n",
    "```\n",
    "\n",
    "Note that we do not regularize the weight of the constant feature (intercept) `w[0]`, so, for this weight, the update is simply:\n",
    "```\n",
    "w[0] = ro[i]\n",
    "```"
   ]
  },
  {
   "cell_type": "markdown",
   "metadata": {},
   "source": [
    "## Effect of L1 penalty"
   ]
  },
  {
   "cell_type": "markdown",
   "metadata": {},
   "source": [
    "Let us consider a simple model with 2 features:"
   ]
  },
  {
   "cell_type": "code",
   "execution_count": 11,
   "metadata": {
    "collapsed": true
   },
   "outputs": [],
   "source": [
    "simple_features = ['sqft_living', 'bedrooms']\n",
    "my_output = 'price'\n",
    "(simple_feature_matrix, output) = get_numpy_data(sales, simple_features, my_output)"
   ]
  },
  {
   "cell_type": "markdown",
   "metadata": {},
   "source": [
    "Don't forget to normalize features:"
   ]
  },
  {
   "cell_type": "code",
   "execution_count": 12,
   "metadata": {
    "collapsed": true
   },
   "outputs": [],
   "source": [
    "simple_feature_matrix, norms = normalize_features(simple_feature_matrix)"
   ]
  },
  {
   "cell_type": "markdown",
   "metadata": {},
   "source": [
    "We assign some random set of initial weights and inspect the values of `ro[i]`:"
   ]
  },
  {
   "cell_type": "code",
   "execution_count": 13,
   "metadata": {
    "collapsed": false
   },
   "outputs": [],
   "source": [
    "weights = np.array([1., 4., 1.])"
   ]
  },
  {
   "cell_type": "markdown",
   "metadata": {},
   "source": [
    "Use `predict_output()` to make predictions on this data."
   ]
  },
  {
   "cell_type": "code",
   "execution_count": 14,
   "metadata": {
    "collapsed": false
   },
   "outputs": [],
   "source": [
    "prediction =  predict_output(simple_feature_matrix, weights)"
   ]
  },
  {
   "cell_type": "markdown",
   "metadata": {},
   "source": [
    "Compute the values of `ro[i]` for each feature in this simple model, using the formula given above, using the formula:\n",
    "```\n",
    "ro[i] = SUM[ [feature_i]*(output - prediction + w[i]*[feature_i]) ]\n",
    "```\n",
    "\n",
    "*Hint: You can get a Numpy vector for feature_i using:*\n",
    "```\n",
    "simple_feature_matrix[:,i]\n",
    "```"
   ]
  },
  {
   "cell_type": "code",
   "execution_count": 23,
   "metadata": {
    "collapsed": false
   },
   "outputs": [
    {
     "name": "stdout",
     "output_type": "stream",
     "text": [
      "[ 79400300.03492916  87939470.77299108  80966698.67596565]\n"
     ]
    }
   ],
   "source": [
    "k = len(weights)\n",
    "ro = np.zeros(k)\n",
    "for i in xrange(k):\n",
    "    ro[i] = (simple_feature_matrix[:,i]*(output - prediction + simple_feature_matrix[:,i]*weights[i])).sum()\n",
    "print ro    "
   ]
  },
  {
   "cell_type": "markdown",
   "metadata": {},
   "source": [
    "***QUIZ QUESTION***\n",
    "\n",
    "Recall that, whenever `ro[i]` falls between `-l1_penalty/2` and `l1_penalty/2`, the corresponding weight `w[i]` is sent to zero. Now suppose we were to take one step of coordinate descent on either feature 1 or feature 2. What range of values of `l1_penalty` **would not** set `w[1]` zero, but **would** set `w[2]` to zero, if we were to take a step in that coordinate? "
   ]
  },
  {
   "cell_type": "code",
   "execution_count": null,
   "metadata": {
    "collapsed": false
   },
   "outputs": [],
   "source": []
  },
  {
   "cell_type": "markdown",
   "metadata": {},
   "source": [
    "***QUIZ QUESTION***\n",
    "\n",
    "What range of values of `l1_penalty` would set **both** `w[1]` and `w[2]` to zero, if we were to take a step in that coordinate? "
   ]
  },
  {
   "cell_type": "code",
   "execution_count": null,
   "metadata": {
    "collapsed": false
   },
   "outputs": [],
   "source": []
  },
  {
   "cell_type": "markdown",
   "metadata": {},
   "source": [
    "So we can say that `ro[i]` quantifies the significance of the i-th feature: the larger `ro[i]` is, the more likely it is for the i-th feature to be retained."
   ]
  },
  {
   "cell_type": "markdown",
   "metadata": {},
   "source": [
    "## Single Coordinate Descent Step"
   ]
  },
  {
   "cell_type": "markdown",
   "metadata": {},
   "source": [
    "Using the formula above, implement coordinate descent that minimizes the cost function over a single feature i. Note that the intercept (weight 0) is not regularized. The function should accept feature matrix, output, current weights, l1 penalty, and index of feature to optimize over. The function should return new weight for feature i."
   ]
  },
  {
   "cell_type": "code",
   "execution_count": 24,
   "metadata": {
    "collapsed": true
   },
   "outputs": [],
   "source": [
    "def lasso_coordinate_descent_step(i, feature_matrix, output, weights, l1_penalty):\n",
    "    # compute prediction\n",
    "    prediction = predict_output(feature_matrix, weights)\n",
    "    # compute ro[i] = SUM[ [feature_i]*(output - prediction + weight[i]*[feature_i]) ]\n",
    "    ro_i = (feature_matrix[:,i]*(output - prediction + feature_matrix[:,i]*weights[i])).sum()\n",
    "\n",
    "    if i == 0: # intercept -- do not regularize\n",
    "        new_weight_i = ro_i \n",
    "    elif ro_i < -l1_penalty/2.:\n",
    "        new_weight_i = ro_i + l1_penalty/2\n",
    "    elif ro_i > l1_penalty/2.:\n",
    "        new_weight_i = ro_i - l1_penalty/2\n",
    "    else:\n",
    "        new_weight_i = 0.\n",
    "    \n",
    "    return new_weight_i"
   ]
  },
  {
   "cell_type": "markdown",
   "metadata": {},
   "source": [
    "To test the function, run the following cell:"
   ]
  },
  {
   "cell_type": "code",
   "execution_count": 25,
   "metadata": {
    "collapsed": false
   },
   "outputs": [
    {
     "name": "stdout",
     "output_type": "stream",
     "text": [
      "0.425558846691\n"
     ]
    }
   ],
   "source": [
    "# should print 0.425558846691\n",
    "import math\n",
    "print lasso_coordinate_descent_step(1, np.array([[3./math.sqrt(13),1./math.sqrt(10)],[2./math.sqrt(13),3./math.sqrt(10)]]), \n",
    "                                   np.array([1., 1.]), np.array([1., 4.]), 0.1)"
   ]
  },
  {
   "cell_type": "markdown",
   "metadata": {
    "collapsed": true
   },
   "source": [
    "## Cyclical coordinate descent "
   ]
  },
  {
   "cell_type": "markdown",
   "metadata": {},
   "source": [
    "Now that we have a function that optimizes the cost function over a single coordinate, let us implement cyclical coordinate descent where we optimize coordinates 0, 1, ..., (d-1) in order and repeat.\n",
    "\n",
    "When do we know to stop? Each time we scan all the coordinates (features) once, we measure the change in weight for each coordinate. If no coordinate changes by more than a specified threshold, we stop."
   ]
  },
  {
   "cell_type": "markdown",
   "metadata": {},
   "source": [
    "For each iteration:\n",
    "1. As you loop over features in order and perform coordinate descent, measure how much each coordinate changes.\n",
    "2. After the loop, if the maximum change across all coordinates is falls below the tolerance, stop. Otherwise, go back to step 1.\n",
    "\n",
    "Return weights\n",
    "\n",
    "**IMPORTANT: when computing a new weight for coordinate i, make sure to incorporate the new weights for coordinates 0, 1, ..., i-1. One good way is to update your weights variable in-place. See following pseudocode for illustration.**\n",
    "```\n",
    "for i in range(len(weights)):\n",
    "    old_weights_i = weights[i] # remember old value of weight[i], as it will be overwritten\n",
    "    # the following line uses new values for weight[0], weight[1], ..., weight[i-1]\n",
    "    #     and old values for weight[i], ..., weight[d-1]\n",
    "    weights[i] = lasso_coordinate_descent_step(i, feature_matrix, output, weights, l1_penalty)\n",
    "    \n",
    "    # use old_weights_i to compute change in coordinate\n",
    "    ...\n",
    "```"
   ]
  },
  {
   "cell_type": "code",
   "execution_count": 44,
   "metadata": {
    "collapsed": false
   },
   "outputs": [],
   "source": [
    "def lasso_cyclical_coordinate_descent(feature_matrix, output, initial_weights, l1_penalty, tolerance):\n",
    "    converged = False \n",
    "    weights = np.array(initial_weights) # make sure it's a numpy array\n",
    "    while not converged:\n",
    "        large_step=0.0\n",
    "        for i in range(len(weights)):\n",
    "            old_weights_i = weights[i] # remember old value of weight[i], as it will be overwritten\n",
    "            weights[i] = lasso_coordinate_descent_step(i, feature_matrix, output, weights, l1_penalty)\n",
    "            step_size = abs(old_weights_i - weights[i])\n",
    "            if large_step < step_size:\n",
    "                large_step = step_size\n",
    "                print step_size\n",
    "        if large_step < tolerance:\n",
    "            converged = True\n",
    "    return weights"
   ]
  },
  {
   "cell_type": "markdown",
   "metadata": {},
   "source": [
    "Using the following parameters, learn the weights on the sales dataset. "
   ]
  },
  {
   "cell_type": "code",
   "execution_count": 40,
   "metadata": {
    "collapsed": false
   },
   "outputs": [],
   "source": [
    "simple_features = ['sqft_living', 'bedrooms']\n",
    "my_output = 'price'\n",
    "initial_weights = np.zeros(3)\n",
    "l1_penalty = 1e7\n",
    "tolerance = 1.0"
   ]
  },
  {
   "cell_type": "markdown",
   "metadata": {},
   "source": [
    "First create a normalized version of the feature matrix, `normalized_simple_feature_matrix`"
   ]
  },
  {
   "cell_type": "code",
   "execution_count": 33,
   "metadata": {
    "collapsed": true
   },
   "outputs": [],
   "source": [
    "(simple_feature_matrix, output) = get_numpy_data(sales, simple_features, my_output)\n",
    "(normalized_simple_feature_matrix, simple_norms) = normalize_features(simple_feature_matrix) # normalize features"
   ]
  },
  {
   "cell_type": "markdown",
   "metadata": {},
   "source": [
    "Then, run your implementation of LASSO coordinate descent:"
   ]
  },
  {
   "cell_type": "code",
   "execution_count": 45,
   "metadata": {
    "collapsed": false
   },
   "outputs": [
    {
     "name": "stdout",
     "output_type": "stream",
     "text": [
      "79400304.6581\n",
      "9138168.3665\n",
      "8194809.40937\n",
      "6598905.03827\n",
      "5522173.1943\n",
      "4621129.81031\n",
      "3867108.10625\n",
      "3236118.81061\n",
      "2708086.93955\n",
      "2266213.1094\n",
      "1896439.06265\n",
      "1587000.40319\n",
      "1328052.31095\n",
      "1111356.328\n",
      "930018.251241\n",
      "778268.79269\n",
      "651280.029038\n",
      "545011.800818\n",
      "456083.174344\n",
      "381664.876995\n",
      "319389.283634\n",
      "267275.090398\n",
      "223664.279321\n",
      "187169.368346\n",
      "156629.268444\n",
      "131072.343461\n",
      "109685.497423\n",
      "91788.3058116\n",
      "76811.3677895\n",
      "64278.190664\n",
      "53790.0302253\n",
      "45013.2046617\n",
      "37668.4784415\n",
      "31522.1784089\n",
      "26378.7594496\n",
      "22074.5832053\n",
      "18472.7119036\n",
      "15458.5516701\n",
      "12936.2067131\n",
      "10825.4283904\n",
      "9059.062091\n",
      "7580.91070477\n",
      "6343.94670622\n",
      "5308.81596931\n",
      "4442.58571219\n",
      "3717.69673771\n",
      "3111.08663488\n",
      "2603.45604623\n",
      "2178.65465672\n",
      "1823.16737024\n",
      "1525.68432523\n",
      "1276.74107067\n",
      "1068.41745343\n",
      "894.085638065\n",
      "748.199241441\n",
      "626.116874095\n",
      "523.954474047\n",
      "438.461734928\n",
      "366.918697163\n",
      "307.049212273\n",
      "256.948526997\n",
      "215.022683285\n",
      "179.937806498\n",
      "150.577667948\n",
      "126.008172072\n",
      "105.447638057\n",
      "88.2419305891\n",
      "73.8436484337\n",
      "61.7947089002\n",
      "51.7117738649\n",
      "43.2740537636\n",
      "36.2131017707\n",
      "30.3042730242\n",
      "25.3595775589\n",
      "21.2216994539\n",
      "17.7589917071\n",
      "14.8612879477\n",
      "12.4363974705\n",
      "10.4071721621\n",
      "8.70905200019\n",
      "7.28801114857\n",
      "6.09883906692\n",
      "5.10370210558\n",
      "4.2709399201\n",
      "3.57405809686\n",
      "2.990885254\n",
      "2.50286772102\n",
      "2.09447915852\n",
      "1.75272664055\n",
      "1.46673728526\n",
      "1.22741232067\n",
      "1.02713757753\n",
      "0.859541326761\n"
     ]
    }
   ],
   "source": [
    "weights = lasso_cyclical_coordinate_descent(normalized_simple_feature_matrix, output,\n",
    "                                            initial_weights, l1_penalty, tolerance)"
   ]
  },
  {
   "cell_type": "code",
   "execution_count": 46,
   "metadata": {
    "collapsed": false
   },
   "outputs": [
    {
     "name": "stdout",
     "output_type": "stream",
     "text": [
      "1.63049248148e+15\n"
     ]
    }
   ],
   "source": [
    "prediction = predict_output(normalized_simple_feature_matrix, weights)\n",
    "ris = prediction  - output\n",
    "RSS = (ris*ris).sum()\n",
    "print  RSS"
   ]
  },
  {
   "cell_type": "code",
   "execution_count": 47,
   "metadata": {
    "collapsed": false
   },
   "outputs": [
    {
     "name": "stdout",
     "output_type": "stream",
     "text": [
      "[ 21624998.36636292  63157246.78545421         0.        ]\n"
     ]
    }
   ],
   "source": [
    "print weights"
   ]
  },
  {
   "cell_type": "markdown",
   "metadata": {},
   "source": [
    "***QUIZ QUESTIONS***\n",
    "1. What is the RSS of the learned model on the normalized dataset?\n",
    "2. Which features had weight zero at convergence?"
   ]
  },
  {
   "cell_type": "markdown",
   "metadata": {},
   "source": [
    "# Evaluating LASSO fit with more features"
   ]
  },
  {
   "cell_type": "markdown",
   "metadata": {},
   "source": [
    "Let us split the sales dataset into training and test sets."
   ]
  },
  {
   "cell_type": "code",
   "execution_count": 48,
   "metadata": {
    "collapsed": true
   },
   "outputs": [],
   "source": [
    "train_data,test_data = sales.random_split(.8,seed=0)"
   ]
  },
  {
   "cell_type": "markdown",
   "metadata": {},
   "source": [
    "Let us consider the following set of features."
   ]
  },
  {
   "cell_type": "code",
   "execution_count": 49,
   "metadata": {
    "collapsed": true
   },
   "outputs": [],
   "source": [
    "all_features = ['bedrooms',\n",
    "                'bathrooms',\n",
    "                'sqft_living',\n",
    "                'sqft_lot',\n",
    "                'floors',\n",
    "                'waterfront', \n",
    "                'view', \n",
    "                'condition', \n",
    "                'grade',\n",
    "                'sqft_above',\n",
    "                'sqft_basement',\n",
    "                'yr_built', \n",
    "                'yr_renovated']"
   ]
  },
  {
   "cell_type": "markdown",
   "metadata": {},
   "source": [
    "First, create a normalized feature matrix from the TRAINING data with these features.  (Make you store the norms for the normalization, since we'll use them later)"
   ]
  },
  {
   "cell_type": "code",
   "execution_count": 52,
   "metadata": {
    "collapsed": false
   },
   "outputs": [],
   "source": [
    "my_output = 'price'\n",
    "(all_feature_matrix, output) = get_numpy_data(train_data, all_features, my_output)\n",
    "(normalized_all_feature_matrix, all_norms) = normalize_features(all_feature_matrix) # normalize features"
   ]
  },
  {
   "cell_type": "markdown",
   "metadata": {},
   "source": [
    "First, learn the weights with `l1_penalty=1e7`, on the training data. Initialize weights to all zeros, and set the `tolerance=1`.  Call resulting weights `weights1e7`, you will need them later."
   ]
  },
  {
   "cell_type": "code",
   "execution_count": 56,
   "metadata": {
    "collapsed": false
   },
   "outputs": [],
   "source": [
    "sz = len(all_features)\n",
    "initial_weights = np.zeros(sz+1)\n",
    "l1_penalty = 1e7\n",
    "tolerance = 1.0"
   ]
  },
  {
   "cell_type": "code",
   "execution_count": 57,
   "metadata": {
    "collapsed": false
   },
   "outputs": [
    {
     "name": "stdout",
     "output_type": "stream",
     "text": [
      "71114625.7528\n",
      "5024356.36869\n",
      "5012324.91395\n",
      "5000676.42086\n",
      "4991243.17314\n",
      "4984361.34335\n",
      "4979504.92921\n",
      "4973806.56525\n",
      "2629220.52555\n",
      "2879222.99938\n",
      "1678495.17891\n",
      "2706150.76622\n",
      "1431139.48146\n",
      "2532295.64864\n",
      "1130424.02235\n",
      "1337213.82745\n",
      "2368316.57782\n",
      "876486.765932\n",
      "1421557.25966\n",
      "2213124.35067\n",
      "658897.06496\n",
      "947126.043731\n",
      "1552443.60013\n",
      "507838.033159\n",
      "438814.370591\n",
      "371479.622608\n",
      "313415.105581\n",
      "264244.832139\n",
      "222753.8608\n",
      "187770.667306\n",
      "158280.093357\n",
      "133420.901606\n",
      "112465.988296\n",
      "94802.2134519\n",
      "79912.6874505\n",
      "67361.6926196\n",
      "56781.942492\n",
      "47863.835752\n",
      "40346.3966195\n",
      "34009.6378518\n",
      "28668.1231465\n",
      "24165.5406129\n",
      "20370.1285268\n",
      "17170.8195088\n",
      "14473.990295\n",
      "12200.7219837\n",
      "10284.4905855\n",
      "8669.22029242\n",
      "7307.64249856\n",
      "6159.91255101\n",
      "5192.44375235\n",
      "4376.92449333\n",
      "3689.48975358\n",
      "3110.02272544\n",
      "2621.56612397\n",
      "2209.82595597\n",
      "1862.75322643\n",
      "1570.19134162\n",
      "1323.57889082\n",
      "1115.69910862\n",
      "940.46868654\n",
      "792.759753529\n",
      "668.249816086\n",
      "563.295266587\n",
      "474.824758224\n",
      "400.249326423\n",
      "337.386626367\n",
      "284.397069883\n",
      "239.729992345\n",
      "202.078274757\n",
      "170.340092748\n",
      "143.586673193\n",
      "121.035115026\n",
      "102.025478713\n",
      "86.0014740676\n",
      "72.494181212\n",
      "61.1083282679\n",
      "51.5107243359\n",
      "43.4205090664\n",
      "36.6009337269\n",
      "30.8524330594\n",
      "26.006785322\n",
      "21.9221894518\n",
      "18.4791155197\n",
      "15.5768068358\n",
      "13.1303314306\n",
      "11.0680966303\n",
      "9.3297540769\n",
      "7.86443359777\n",
      "6.62925469503\n",
      "5.58807155117\n",
      "4.71041543409\n",
      "3.9706030041\n",
      "3.34698464349\n",
      "2.82131107152\n",
      "2.3781991899\n",
      "2.0046819523\n",
      "1.68982890993\n",
      "1.42442632094\n",
      "1.20070755109\n",
      "1.01212580875\n",
      "0.853162493557\n"
     ]
    }
   ],
   "source": [
    "weights1e7 = lasso_cyclical_coordinate_descent(normalized_all_feature_matrix, output,\n",
    "                                            initial_weights, l1_penalty, tolerance)"
   ]
  },
  {
   "cell_type": "markdown",
   "metadata": {},
   "source": [
    "***QUIZ QUESTION***\n",
    "\n",
    "What features had non-zero weight in this case?"
   ]
  },
  {
   "cell_type": "markdown",
   "metadata": {
    "collapsed": true
   },
   "source": [
    "Next, learn the weights with `l1_penalty=1e8`, on the training data. Initialize weights to all zeros, and set the `tolerance=1`.  Call resulting weights `weights1e8`, you will need them later."
   ]
  },
  {
   "cell_type": "code",
   "execution_count": 58,
   "metadata": {
    "collapsed": false
   },
   "outputs": [
    {
     "name": "stdout",
     "output_type": "stream",
     "text": [
      "71114625.7528\n"
     ]
    }
   ],
   "source": [
    "l1_penalty = 1e8\n",
    "weights1e8 = lasso_cyclical_coordinate_descent(normalized_all_feature_matrix, output,\n",
    "                                            initial_weights, l1_penalty, tolerance)"
   ]
  },
  {
   "cell_type": "markdown",
   "metadata": {},
   "source": [
    "***QUIZ QUESTION***\n",
    "\n",
    "What features had non-zero weight in this case?"
   ]
  },
  {
   "cell_type": "markdown",
   "metadata": {},
   "source": [
    "Finally, learn the weights with `l1_penalty=1e4`, on the training data. Initialize weights to all zeros, and set the `tolerance=5e5`.  Call resulting weights `weights1e4`, you will need them later.  (This case will take quite a bit longer to converge than the others above.)"
   ]
  },
  {
   "cell_type": "code",
   "execution_count": 59,
   "metadata": {
    "collapsed": false,
    "scrolled": false
   },
   "outputs": [
    {
     "name": "stdout",
     "output_type": "stream",
     "text": [
      "71114625.7528\n",
      "656582.579069\n",
      "2468988.04934\n",
      "3584457.8054\n",
      "4916244.61106\n",
      "4931522.9822\n",
      "5297036.06628\n",
      "8464015.94738\n",
      "54673.1764821\n",
      "1604397.23552\n",
      "3177762.60019\n",
      "3587867.56036\n",
      "4184746.78103\n",
      "6818451.35869\n",
      "11879.4066318\n",
      "964887.595026\n",
      "2803628.26512\n",
      "3251015.14864\n",
      "5570165.21901\n",
      "35715.0766581\n",
      "461708.794851\n",
      "2459608.52475\n",
      "2481794.0861\n",
      "4559838.46759\n",
      "48341.7961846\n",
      "62854.599619\n",
      "2149118.85088\n",
      "3732056.69715\n",
      "57620.7032791\n",
      "251303.971005\n",
      "1870640.79256\n",
      "3053211.61353\n",
      "65319.7893941\n",
      "496015.27904\n",
      "1621553.26546\n",
      "1632779.1608\n",
      "2497517.43558\n",
      "71864.8638116\n",
      "683815.925687\n",
      "1399150.69309\n",
      "1511868.85441\n",
      "2043868.97325\n",
      "77429.5462091\n",
      "825115.958732\n",
      "1200858.26714\n",
      "1419417.42925\n",
      "1674717.70906\n",
      "82137.068367\n",
      "928563.585831\n",
      "1024278.85145\n",
      "1349317.31443\n",
      "1375420.75692\n",
      "86093.5053087\n",
      "1001332.75431\n",
      "1296621.8143\n",
      "89393.238424\n",
      "1049362.65118\n",
      "1257340.9361\n",
      "92120.3563358\n",
      "1077559.2824\n",
      "1228271.24819\n",
      "94349.5503441\n",
      "1089965.38589\n",
      "1206854.36471\n",
      "96146.9540437\n",
      "1089903.57062\n",
      "1191059.40598\n",
      "97570.9553257\n",
      "1070096.76332\n",
      "1179030.77017\n",
      "98640.5203591\n",
      "1052991.86154\n",
      "1169777.43345\n",
      "99452.7050377\n",
      "1030200.0845\n",
      "1162340.67589\n",
      "100030.422787\n",
      "1003184.16927\n",
      "1155980.52901\n",
      "100407.227992\n",
      "973124.47642\n",
      "1150139.67966\n",
      "100613.008928\n",
      "940969.105248\n",
      "1144406.32752\n",
      "100673.858759\n",
      "907475.338513\n",
      "1138483.91805\n",
      "100612.474416\n",
      "873244.026536\n",
      "1132166.57169\n",
      "100448.551916\n",
      "838748.118853\n",
      "1125319.16778\n",
      "100199.147097\n",
      "804356.311025\n",
      "1117861.24888\n",
      "99878.999942\n",
      "770352.608338\n",
      "1109754.06282\n",
      "99500.8239087\n",
      "736952.478318\n",
      "1100990.17907\n",
      "99075.562747\n",
      "704316.156955\n",
      "1091585.21244\n",
      "98612.6176311\n",
      "672559.583668\n",
      "1081571.26761\n",
      "98120.04745\n",
      "641763.364187\n",
      "1070991.78405\n",
      "97604.7449915\n",
      "611980.096357\n",
      "1059897.51701\n",
      "97072.5915747\n",
      "583240.339601\n",
      "1048343.43631\n",
      "96528.5924867\n",
      "555557.463\n",
      "1036386.3636\n",
      "95976.9953806\n",
      "528931.568237\n",
      "1024083.20068\n",
      "95421.3935903\n",
      "503352.651115\n",
      "1011489.62847\n",
      "94864.8161319\n",
      "478803.13794\n",
      "998659.178392\n",
      "94309.8059811\n",
      "455259.910028\n",
      "985642.596017\n",
      "93758.48805\n",
      "432695.910285\n",
      "972487.432403\n",
      "93212.6281332\n",
      "411081.409639\n",
      "959237.810727\n",
      "92673.6839543\n",
      "390384.99755\n",
      "945934.326266\n",
      "92142.8493118\n",
      "370574.349551\n",
      "932614.046118\n",
      "91621.0922107\n",
      "351616.815341\n",
      "919310.581988\n",
      "91109.1877605\n",
      "333479.863133\n",
      "906054.214956\n",
      "90607.7465245\n",
      "316131.409444\n",
      "892872.055697\n",
      "90222.3712948\n",
      "300208.630639\n",
      "879109.302243\n",
      "89617.292602\n",
      "284514.202376\n",
      "288839.98734\n",
      "866038.266742\n",
      "89162.3657811\n",
      "269385.196749\n",
      "287030.727945\n",
      "853191.44943\n",
      "88712.8844291\n",
      "254881.943297\n",
      "284906.121264\n",
      "840521.781012\n",
      "88271.4103014\n",
      "241000.791506\n",
      "282484.082203\n",
      "828028.403962\n",
      "87841.0597244\n",
      "227723.798073\n",
      "279792.014762\n",
      "815717.920819\n",
      "87422.2081666\n",
      "215029.794507\n",
      "276858.419027\n",
      "803598.206378\n",
      "87014.7450619\n",
      "202897.079779\n",
      "273710.408288\n",
      "791676.769693\n",
      "86618.5533587\n",
      "191304.193389\n",
      "270373.122518\n",
      "779960.222854\n",
      "86233.5312628\n",
      "180230.179498\n",
      "266869.690004\n",
      "768454.139375\n",
      "85859.5697004\n",
      "169654.689951\n",
      "263221.342386\n",
      "757163.05916\n",
      "85496.5415404\n",
      "159558.026656\n",
      "259447.565163\n",
      "746090.546302\n",
      "85144.2996929\n",
      "149921.156926\n",
      "255566.24759\n",
      "735239.263812\n",
      "84802.6787848\n",
      "140725.714663\n",
      "251593.821435\n",
      "724611.051693\n",
      "84468.4035869\n",
      "132161.222414\n",
      "247916.45049\n",
      "714002.910141\n",
      "84223.1767742\n",
      "124170.389292\n",
      "244145.895066\n",
      "703393.002342\n",
      "83913.4016241\n",
      "116533.247272\n",
      "240240.081671\n",
      "693038.299304\n",
      "83615.7463244\n",
      "109200.12522\n",
      "236246.789168\n",
      "682960.589206\n",
      "83327.9956111\n",
      "102159.122015\n",
      "232192.404608\n",
      "673155.135299\n",
      "83094.3324441\n",
      "95538.4765941\n",
      "228375.973866\n",
      "663513.600594\n",
      "82833.8411541\n",
      "89159.6332021\n",
      "224475.594189\n",
      "654148.681361\n",
      "82581.5359756\n",
      "83024.0082\n",
      "220516.075987\n",
      "645045.446052\n",
      "82335.9310136\n",
      "216513.735042\n",
      "636191.878813\n",
      "82096.9746965\n",
      "212482.257585\n",
      "627577.229773\n",
      "81864.7482906\n",
      "208433.72452\n",
      "619191.96692\n",
      "81639.2729229\n",
      "204378.948832\n",
      "611027.657019\n",
      "81420.5225409\n",
      "200327.641852\n",
      "603076.796131\n",
      "81208.4408926\n",
      "196288.523822\n",
      "595332.640574\n",
      "81002.9505244\n",
      "192269.412381\n",
      "587789.058274\n",
      "80803.9577024\n",
      "188277.299992\n",
      "580440.404721\n",
      "80611.3556097\n",
      "184318.42413\n",
      "573281.422008\n",
      "80425.0267621\n",
      "180398.331665\n",
      "566307.157817\n",
      "80244.845003\n",
      "176521.938102\n",
      "559512.901092\n",
      "80070.6772136\n",
      "172693.582045\n",
      "552894.131446\n",
      "79902.3848016\n",
      "168917.075222\n",
      "546446.479774\n",
      "79739.8250031\n",
      "165195.748363\n",
      "540165.69795\n",
      "79582.8520176\n",
      "161532.493224\n",
      "534047.63585\n",
      "79431.3179981\n",
      "157929.801047\n",
      "528088.224232\n",
      "79285.07391\n",
      "154389.797733\n",
      "522283.462294\n",
      "79143.970274\n",
      "150914.276001\n",
      "516629.408909\n",
      "79007.8578059\n",
      "147504.72478\n",
      "511122.176757\n",
      "78876.5879653\n",
      "144162.356074\n",
      "505757.928682\n",
      "78750.0134229\n",
      "140888.129534\n",
      "500532.875758\n",
      "78627.988458\n",
      "137682.774917\n",
      "495443.276635\n"
     ]
    }
   ],
   "source": [
    "l1_penalty = 1e4\n",
    "tolerance=5e5\n",
    "weights1e4 = lasso_cyclical_coordinate_descent(normalized_all_feature_matrix, output,\n",
    "                                            initial_weights, l1_penalty, tolerance)"
   ]
  },
  {
   "cell_type": "code",
   "execution_count": 61,
   "metadata": {
    "collapsed": false
   },
   "outputs": [
    {
     "name": "stdout",
     "output_type": "stream",
     "text": [
      "[ 24429600.60933314         0.                 0.          48389174.35227978\n",
      "         0.                 0.           3317511.16271982   7329961.9848964\n",
      "         0.                 0.                 0.                 0.\n",
      "         0.                 0.        ]\n",
      "[ 71114625.75280938         0.                 0.                 0.\n",
      "         0.                 0.                 0.                 0.\n",
      "         0.                 0.                 0.                 0.\n",
      "         0.                 0.        ]\n",
      "[ 77779073.91265215 -22884012.25023361  15348487.08089997\n",
      "  92166869.69883084  -2139328.0824278   -8818455.54409496\n",
      "   6494209.73310655   7065162.05053197   4119079.21006765\n",
      "  18436483.52618778 -14566678.54514349  -5528348.75179429\n",
      " -83591746.20730527   2784276.46012858]\n",
      "['bedrooms', 'bathrooms', 'sqft_living', 'sqft_lot', 'floors', 'waterfront', 'view', 'condition', 'grade', 'sqft_above', 'sqft_basement', 'yr_built', 'yr_renovated']\n"
     ]
    }
   ],
   "source": [
    "print weights1e7\n",
    "print weights1e8\n",
    "print weights1e4\n",
    "print all_features"
   ]
  },
  {
   "cell_type": "markdown",
   "metadata": {},
   "source": [
    "***QUIZ QUESTION***\n",
    "\n",
    "What features had non-zero weight in this case?"
   ]
  },
  {
   "cell_type": "markdown",
   "metadata": {},
   "source": [
    "## Rescaling learned weights"
   ]
  },
  {
   "cell_type": "markdown",
   "metadata": {},
   "source": [
    "Recall that we normalized our feature matrix, before learning the weights.  To use these weights on a test set, we must normalize the test data in the same way.\n",
    "\n",
    "Alternatively, we can rescale the learned weights to include the normalization, so we never have to worry about normalizing the test data: \n",
    "\n",
    "In this case, we must scale the resulting weights so that we can make predictions with *original* features:\n",
    " 1. Store the norms of the original features to a vector called `norms`:\n",
    "```\n",
    "features, norms = normalize_features(features)\n",
    "```\n",
    " 2. Run Lasso on the normalized features and obtain a `weights` vector\n",
    " 3. Compute the weights for the original features by performing element-wise division, i.e.\n",
    "```\n",
    "weights_normalized = weights / norms\n",
    "```\n",
    "Now, we can apply `weights_normalized` to the test data, without normalizing it!"
   ]
  },
  {
   "cell_type": "markdown",
   "metadata": {},
   "source": [
    "Create a normalized version of each of the weights learned above. (`weights1e4`, `weights1e7`, `weights1e8`)."
   ]
  },
  {
   "cell_type": "code",
   "execution_count": 62,
   "metadata": {
    "collapsed": true
   },
   "outputs": [],
   "source": [
    "(features, norms) = normalize_features(all_feature_matrix) # normalize features"
   ]
  },
  {
   "cell_type": "code",
   "execution_count": 67,
   "metadata": {
    "collapsed": false
   },
   "outputs": [
    {
     "name": "stdout",
     "output_type": "stream",
     "text": [
      "71114625.7528\n",
      "5024356.36869\n",
      "5012324.91395\n",
      "5000676.42086\n",
      "4991243.17314\n",
      "4984361.34335\n",
      "4979504.92921\n",
      "4973806.56525\n",
      "2629220.52555\n",
      "2879222.99938\n",
      "1678495.17891\n",
      "2706150.76622\n",
      "1431139.48146\n",
      "2532295.64864\n",
      "1130424.02235\n",
      "1337213.82745\n",
      "2368316.57782\n",
      "876486.765932\n",
      "1421557.25966\n",
      "2213124.35067\n",
      "658897.06496\n",
      "947126.043731\n",
      "1552443.60013\n",
      "507838.033159\n",
      "438814.370591\n",
      "371479.622608\n",
      "313415.105581\n",
      "264244.832139\n",
      "222753.8608\n",
      "187770.667306\n",
      "158280.093357\n",
      "133420.901606\n",
      "112465.988296\n",
      "94802.2134519\n",
      "79912.6874505\n",
      "67361.6926196\n",
      "56781.942492\n",
      "47863.835752\n",
      "40346.3966195\n",
      "34009.6378518\n",
      "28668.1231465\n",
      "24165.5406129\n",
      "20370.1285268\n",
      "17170.8195088\n",
      "14473.990295\n",
      "12200.7219837\n",
      "10284.4905855\n",
      "8669.22029242\n",
      "7307.64249856\n",
      "6159.91255101\n",
      "5192.44375235\n",
      "4376.92449333\n",
      "3689.48975358\n",
      "3110.02272544\n",
      "2621.56612397\n",
      "2209.82595597\n",
      "1862.75322643\n",
      "1570.19134162\n",
      "1323.57889082\n",
      "1115.69910862\n",
      "940.46868654\n",
      "792.759753529\n",
      "668.249816086\n",
      "563.295266587\n",
      "474.824758224\n",
      "400.249326423\n",
      "337.386626367\n",
      "284.397069883\n",
      "239.729992345\n",
      "202.078274757\n",
      "170.340092748\n",
      "143.586673193\n",
      "121.035115026\n",
      "102.025478713\n",
      "86.0014740676\n",
      "72.494181212\n",
      "61.1083282679\n",
      "51.5107243359\n",
      "43.4205090664\n",
      "36.6009337269\n",
      "30.8524330594\n",
      "26.006785322\n",
      "21.9221894518\n",
      "18.4791155197\n",
      "15.5768068358\n",
      "13.1303314306\n",
      "11.0680966303\n",
      "9.3297540769\n",
      "7.86443359777\n",
      "6.62925469503\n",
      "5.58807155117\n",
      "4.71041543409\n",
      "3.9706030041\n",
      "3.34698464349\n",
      "2.82131107152\n",
      "2.3781991899\n",
      "2.0046819523\n",
      "1.68982890993\n",
      "1.42442632094\n",
      "1.20070755109\n",
      "1.01212580875\n",
      "0.853162493557\n"
     ]
    }
   ],
   "source": [
    "l1_penalty = 1e7\n",
    "tolerance=1.\n",
    "weights1e7_normalized = lasso_cyclical_coordinate_descent(features, output,\n",
    "                                            initial_weights, l1_penalty, tolerance)\n",
    "weights1e7_normalized = weights1e7_normalized/norms"
   ]
  },
  {
   "cell_type": "markdown",
   "metadata": {},
   "source": [
    "To check your results, if you call `normalized_weights1e7` the normalized version of `weights1e7`, then:\n",
    "```\n",
    "print normalized_weights1e7[3]\n",
    "```\n",
    "should return 161.31745624837794."
   ]
  },
  {
   "cell_type": "code",
   "execution_count": 68,
   "metadata": {
    "collapsed": false
   },
   "outputs": [
    {
     "name": "stdout",
     "output_type": "stream",
     "text": [
      "161.317456248\n"
     ]
    }
   ],
   "source": [
    "print weights1e7_normalized[3]"
   ]
  },
  {
   "cell_type": "code",
   "execution_count": 69,
   "metadata": {
    "collapsed": false
   },
   "outputs": [
    {
     "name": "stdout",
     "output_type": "stream",
     "text": [
      "71114625.7528\n"
     ]
    }
   ],
   "source": [
    "l1_penalty = 1e8\n",
    "tolerance=1.\n",
    "weights1e8_normalized = lasso_cyclical_coordinate_descent(features, output,\n",
    "                                            initial_weights, l1_penalty, tolerance)\n",
    "weights1e8_normalized = weights1e8_normalized/norms"
   ]
  },
  {
   "cell_type": "code",
   "execution_count": 70,
   "metadata": {
    "collapsed": false,
    "scrolled": true
   },
   "outputs": [
    {
     "name": "stdout",
     "output_type": "stream",
     "text": [
      "71114625.7528\n",
      "656582.579069\n",
      "2468988.04934\n",
      "3584457.8054\n",
      "4916244.61106\n",
      "4931522.9822\n",
      "5297036.06628\n",
      "8464015.94738\n",
      "54673.1764821\n",
      "1604397.23552\n",
      "3177762.60019\n",
      "3587867.56036\n",
      "4184746.78103\n",
      "6818451.35869\n",
      "11879.4066318\n",
      "964887.595026\n",
      "2803628.26512\n",
      "3251015.14864\n",
      "5570165.21901\n",
      "35715.0766581\n",
      "461708.794851\n",
      "2459608.52475\n",
      "2481794.0861\n",
      "4559838.46759\n",
      "48341.7961846\n",
      "62854.599619\n",
      "2149118.85088\n",
      "3732056.69715\n",
      "57620.7032791\n",
      "251303.971005\n",
      "1870640.79256\n",
      "3053211.61353\n",
      "65319.7893941\n",
      "496015.27904\n",
      "1621553.26546\n",
      "1632779.1608\n",
      "2497517.43558\n",
      "71864.8638116\n",
      "683815.925687\n",
      "1399150.69309\n",
      "1511868.85441\n",
      "2043868.97325\n",
      "77429.5462091\n",
      "825115.958732\n",
      "1200858.26714\n",
      "1419417.42925\n",
      "1674717.70906\n",
      "82137.068367\n",
      "928563.585831\n",
      "1024278.85145\n",
      "1349317.31443\n",
      "1375420.75692\n",
      "86093.5053087\n",
      "1001332.75431\n",
      "1296621.8143\n",
      "89393.238424\n",
      "1049362.65118\n",
      "1257340.9361\n",
      "92120.3563358\n",
      "1077559.2824\n",
      "1228271.24819\n",
      "94349.5503441\n",
      "1089965.38589\n",
      "1206854.36471\n",
      "96146.9540437\n",
      "1089903.57062\n",
      "1191059.40598\n",
      "97570.9553257\n",
      "1070096.76332\n",
      "1179030.77017\n",
      "98640.5203591\n",
      "1052991.86154\n",
      "1169777.43345\n",
      "99452.7050377\n",
      "1030200.0845\n",
      "1162340.67589\n",
      "100030.422787\n",
      "1003184.16927\n",
      "1155980.52901\n",
      "100407.227992\n",
      "973124.47642\n",
      "1150139.67966\n",
      "100613.008928\n",
      "940969.105248\n",
      "1144406.32752\n",
      "100673.858759\n",
      "907475.338513\n",
      "1138483.91805\n",
      "100612.474416\n",
      "873244.026536\n",
      "1132166.57169\n",
      "100448.551916\n",
      "838748.118853\n",
      "1125319.16778\n",
      "100199.147097\n",
      "804356.311025\n",
      "1117861.24888\n",
      "99878.999942\n",
      "770352.608338\n",
      "1109754.06282\n",
      "99500.8239087\n",
      "736952.478318\n",
      "1100990.17907\n",
      "99075.562747\n",
      "704316.156955\n",
      "1091585.21244\n",
      "98612.6176311\n",
      "672559.583668\n",
      "1081571.26761\n",
      "98120.04745\n",
      "641763.364187\n",
      "1070991.78405\n",
      "97604.7449915\n",
      "611980.096357\n",
      "1059897.51701\n",
      "97072.5915747\n",
      "583240.339601\n",
      "1048343.43631\n",
      "96528.5924867\n",
      "555557.463\n",
      "1036386.3636\n",
      "95976.9953806\n",
      "528931.568237\n",
      "1024083.20068\n",
      "95421.3935903\n",
      "503352.651115\n",
      "1011489.62847\n",
      "94864.8161319\n",
      "478803.13794\n",
      "998659.178392\n",
      "94309.8059811\n",
      "455259.910028\n",
      "985642.596017\n",
      "93758.48805\n",
      "432695.910285\n",
      "972487.432403\n",
      "93212.6281332\n",
      "411081.409639\n",
      "959237.810727\n",
      "92673.6839543\n",
      "390384.99755\n",
      "945934.326266\n",
      "92142.8493118\n",
      "370574.349551\n",
      "932614.046118\n",
      "91621.0922107\n",
      "351616.815341\n",
      "919310.581988\n",
      "91109.1877605\n",
      "333479.863133\n",
      "906054.214956\n",
      "90607.7465245\n",
      "316131.409444\n",
      "892872.055697\n",
      "90222.3712948\n",
      "300208.630639\n",
      "879109.302243\n",
      "89617.292602\n",
      "284514.202376\n",
      "288839.98734\n",
      "866038.266742\n",
      "89162.3657811\n",
      "269385.196749\n",
      "287030.727945\n",
      "853191.44943\n",
      "88712.8844291\n",
      "254881.943297\n",
      "284906.121264\n",
      "840521.781012\n",
      "88271.4103014\n",
      "241000.791506\n",
      "282484.082203\n",
      "828028.403962\n",
      "87841.0597244\n",
      "227723.798073\n",
      "279792.014762\n",
      "815717.920819\n",
      "87422.2081666\n",
      "215029.794507\n",
      "276858.419027\n",
      "803598.206378\n",
      "87014.7450619\n",
      "202897.079779\n",
      "273710.408288\n",
      "791676.769693\n",
      "86618.5533587\n",
      "191304.193389\n",
      "270373.122518\n",
      "779960.222854\n",
      "86233.5312628\n",
      "180230.179498\n",
      "266869.690004\n",
      "768454.139375\n",
      "85859.5697004\n",
      "169654.689951\n",
      "263221.342386\n",
      "757163.05916\n",
      "85496.5415404\n",
      "159558.026656\n",
      "259447.565163\n",
      "746090.546302\n",
      "85144.2996929\n",
      "149921.156926\n",
      "255566.24759\n",
      "735239.263812\n",
      "84802.6787848\n",
      "140725.714663\n",
      "251593.821435\n",
      "724611.051693\n",
      "84468.4035869\n",
      "132161.222414\n",
      "247916.45049\n",
      "714002.910141\n",
      "84223.1767742\n",
      "124170.389292\n",
      "244145.895066\n",
      "703393.002342\n",
      "83913.4016241\n",
      "116533.247272\n",
      "240240.081671\n",
      "693038.299304\n",
      "83615.7463244\n",
      "109200.12522\n",
      "236246.789168\n",
      "682960.589206\n",
      "83327.9956111\n",
      "102159.122015\n",
      "232192.404608\n",
      "673155.135299\n",
      "83094.3324441\n",
      "95538.4765941\n",
      "228375.973866\n",
      "663513.600594\n",
      "82833.8411541\n",
      "89159.6332021\n",
      "224475.594189\n",
      "654148.681361\n",
      "82581.5359756\n",
      "83024.0082\n",
      "220516.075987\n",
      "645045.446052\n",
      "82335.9310136\n",
      "216513.735042\n",
      "636191.878813\n",
      "82096.9746965\n",
      "212482.257585\n",
      "627577.229773\n",
      "81864.7482906\n",
      "208433.72452\n",
      "619191.96692\n",
      "81639.2729229\n",
      "204378.948832\n",
      "611027.657019\n",
      "81420.5225409\n",
      "200327.641852\n",
      "603076.796131\n",
      "81208.4408926\n",
      "196288.523822\n",
      "595332.640574\n",
      "81002.9505244\n",
      "192269.412381\n",
      "587789.058274\n",
      "80803.9577024\n",
      "188277.299992\n",
      "580440.404721\n",
      "80611.3556097\n",
      "184318.42413\n",
      "573281.422008\n",
      "80425.0267621\n",
      "180398.331665\n",
      "566307.157817\n",
      "80244.845003\n",
      "176521.938102\n",
      "559512.901092\n",
      "80070.6772136\n",
      "172693.582045\n",
      "552894.131446\n",
      "79902.3848016\n",
      "168917.075222\n",
      "546446.479774\n",
      "79739.8250031\n",
      "165195.748363\n",
      "540165.69795\n",
      "79582.8520176\n",
      "161532.493224\n",
      "534047.63585\n",
      "79431.3179981\n",
      "157929.801047\n",
      "528088.224232\n",
      "79285.07391\n",
      "154389.797733\n",
      "522283.462294\n",
      "79143.970274\n",
      "150914.276001\n",
      "516629.408909\n",
      "79007.8578059\n",
      "147504.72478\n",
      "511122.176757\n",
      "78876.5879653\n",
      "144162.356074\n",
      "505757.928682\n",
      "78750.0134229\n",
      "140888.129534\n",
      "500532.875758\n",
      "78627.988458\n",
      "137682.774917\n",
      "495443.276635\n"
     ]
    }
   ],
   "source": [
    "l1_penalty = 1e4\n",
    "tolerance=5e5\n",
    "weights1e4_normalized = lasso_cyclical_coordinate_descent(features, output,\n",
    "                                            initial_weights, l1_penalty, tolerance)\n",
    "weights1e4_normalized = weights1e4_normalized/norms"
   ]
  },
  {
   "cell_type": "markdown",
   "metadata": {},
   "source": [
    "## Evaluating each of the learned models on the test data"
   ]
  },
  {
   "cell_type": "markdown",
   "metadata": {},
   "source": [
    "Let's now evaluate the three models on the test data:"
   ]
  },
  {
   "cell_type": "code",
   "execution_count": 65,
   "metadata": {
    "collapsed": true
   },
   "outputs": [],
   "source": [
    "(test_feature_matrix, test_output) = get_numpy_data(test_data, all_features, 'price')"
   ]
  },
  {
   "cell_type": "markdown",
   "metadata": {},
   "source": [
    "Compute the RSS of each of the three normalized weights on the (unnormalized) `test_feature_matrix`:"
   ]
  },
  {
   "cell_type": "code",
   "execution_count": 71,
   "metadata": {
    "collapsed": false
   },
   "outputs": [
    {
     "name": "stdout",
     "output_type": "stream",
     "text": [
      "2.2778100476e+14\n"
     ]
    }
   ],
   "source": [
    "prediction = predict_output(test_feature_matrix, weights1e4_normalized)\n",
    "ris = prediction  - test_output\n",
    "RSS = (ris*ris).sum()\n",
    "print  RSS"
   ]
  },
  {
   "cell_type": "code",
   "execution_count": 72,
   "metadata": {
    "collapsed": false
   },
   "outputs": [
    {
     "name": "stdout",
     "output_type": "stream",
     "text": [
      "5.37166150034e+14\n"
     ]
    }
   ],
   "source": [
    "prediction = predict_output(test_feature_matrix, weights1e8_normalized)\n",
    "ris = prediction  - test_output\n",
    "RSS = (ris*ris).sum()\n",
    "print  RSS"
   ]
  },
  {
   "cell_type": "code",
   "execution_count": 73,
   "metadata": {
    "collapsed": false
   },
   "outputs": [
    {
     "name": "stdout",
     "output_type": "stream",
     "text": [
      "2.75962079909e+14\n"
     ]
    }
   ],
   "source": [
    "prediction = predict_output(test_feature_matrix, weights1e7_normalized)\n",
    "ris = prediction  - test_output\n",
    "RSS = (ris*ris).sum()\n",
    "print  RSS"
   ]
  },
  {
   "cell_type": "markdown",
   "metadata": {},
   "source": [
    "***QUIZ QUESTION***\n",
    "\n",
    "Which model performed best on the test data?"
   ]
  }
 ],
 "metadata": {
  "kernelspec": {
   "display_name": "Python [gl-env]",
   "language": "python",
   "name": "Python [gl-env]"
  },
  "language_info": {
   "codemirror_mode": {
    "name": "ipython",
    "version": 2
   },
   "file_extension": ".py",
   "mimetype": "text/x-python",
   "name": "python",
   "nbconvert_exporter": "python",
   "pygments_lexer": "ipython2",
   "version": "2.7.12"
  }
 },
 "nbformat": 4,
 "nbformat_minor": 0
}
